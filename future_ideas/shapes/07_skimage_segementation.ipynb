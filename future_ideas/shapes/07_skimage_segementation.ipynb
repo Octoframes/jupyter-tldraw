{
 "cells": [
  {
   "cell_type": "code",
   "execution_count": null,
   "metadata": {},
   "outputs": [],
   "source": [
    "import matplotlib.pyplot as plt\n",
    "import numpy as np\n",
    "from skimage import data\n",
    "from skimage.color import label2rgb\n",
    "from skimage.filters import sobel\n",
    "from skimage.measure import label\n",
    "from skimage.segmentation import expand_labels, watershed\n",
    "\n",
    "coins = data.coins()\n",
    "\n",
    "# Make segmentation using edge-detection and watershed.\n",
    "edges = sobel(coins)\n",
    "\n",
    "# Identify some background and foreground pixels from the intensity values.\n",
    "# These pixels are used as seeds for watershed.\n",
    "markers = np.zeros(coins.shape, dtype=np.uint)\n",
    "foreground, background = 1, 2\n",
    "markers[130,150]=1\n",
    "markers[130,200]=1\n",
    "\n",
    "markers[0,0]=2\n",
    "\n",
    "# based on https://scikit-image.org/docs/stable/auto_examples/segmentation/plot_expand_labels.html#sphx-glr-auto-examples-segmentation-plot-expand-labels-py\n",
    "ws = watershed(edges, markers)\n",
    "seg1 = label(ws == foreground)\n",
    "\n",
    "expanded = expand_labels(seg1, distance=10)\n",
    "\n",
    "# Show the segmentations.\n",
    "fig, axes = plt.subplots(nrows=1, ncols=2)\n",
    "\n",
    "axes[0].imshow(coins, cmap=\"Greys_r\")\n",
    "axes[0].set_title(\"Original\")\n",
    "\n",
    "color1 = label2rgb(seg1, image=coins, bg_label=0)\n",
    "axes[1].imshow(color1)\n",
    "axes[1].set_title(\"Sobel+Watershed\")\n",
    "\n",
    "\n",
    "for a in axes:\n",
    "    a.axis(\"off\")\n",
    "fig.tight_layout()\n",
    "plt.show()\n",
    "\n",
    "from jupyter_compare_view import compare\n",
    "compare(coins, markers)"
   ]
  },
  {
   "cell_type": "code",
   "execution_count": null,
   "metadata": {},
   "outputs": [],
   "source": []
  }
 ],
 "metadata": {
  "kernelspec": {
   "display_name": "draw-nmmK06VI-py3.11",
   "language": "python",
   "name": "python3"
  },
  "language_info": {
   "codemirror_mode": {
    "name": "ipython",
    "version": 3
   },
   "file_extension": ".py",
   "mimetype": "text/x-python",
   "name": "python",
   "nbconvert_exporter": "python",
   "pygments_lexer": "ipython3",
   "version": "3.11.3"
  },
  "orig_nbformat": 4
 },
 "nbformat": 4,
 "nbformat_minor": 2
}
