{
 "cells": [
  {
   "cell_type": "code",
   "execution_count": null,
   "metadata": {},
   "outputs": [],
   "source": [
    "import ipyreact\n",
    "from traitlets import Unicode\n",
    "from IPython.display import display\n",
    "from pathlib import Path\n",
    "\n",
    "\n",
    "class TldrawWidget(ipyreact.ReactWidget):\n",
    "    my_text = Unicode(\"Hello World\").tag(sync=True)\n",
    "    my_text_out = Unicode(\"Hello World\").tag(sync=True)\n",
    "    path = Path.cwd() / \"tldraw_component.tsx\"\n",
    "    _esm = path\n",
    "\n",
    "tldraw = TldrawWidget()\n",
    "tldraw.my_text = \"This is Tldrawesome!!🎉\"\n",
    "display(tldraw);"
   ]
  },
  {
   "cell_type": "code",
   "execution_count": null,
   "metadata": {},
   "outputs": [],
   "source": [
    "tldraw.my_text = \"Hey there!\""
   ]
  },
  {
   "cell_type": "code",
   "execution_count": null,
   "metadata": {},
   "outputs": [],
   "source": [
    "tldraw.my_text"
   ]
  },
  {
   "cell_type": "code",
   "execution_count": null,
   "metadata": {},
   "outputs": [],
   "source": [
    "tldraw.my_text = \"What's up?\""
   ]
  }
 ],
 "metadata": {
  "kernelspec": {
   "display_name": "draw-nmmK06VI-py3.11",
   "language": "python",
   "name": "python3"
  },
  "language_info": {
   "codemirror_mode": {
    "name": "ipython",
    "version": 3
   },
   "file_extension": ".py",
   "mimetype": "text/x-python",
   "name": "python",
   "nbconvert_exporter": "python",
   "pygments_lexer": "ipython3",
   "version": "3.11.3"
  },
  "orig_nbformat": 4
 },
 "nbformat": 4,
 "nbformat_minor": 2
}
