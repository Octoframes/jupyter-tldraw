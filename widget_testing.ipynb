{
 "cells": [
  {
   "cell_type": "code",
   "execution_count": 5,
   "metadata": {},
   "outputs": [
    {
     "data": {
      "application/vnd.jupyter.widget-view+json": {
       "model_id": "2c748726ea0e4221b1808c74882b172d",
       "version_major": 2,
       "version_minor": 0
      },
      "text/plain": [
       "ExampleWidget()"
      ]
     },
     "execution_count": 5,
     "metadata": {},
     "output_type": "execute_result"
    }
   ],
   "source": [
    "import anywidget\n",
    "import traitlets\n",
    "\n",
    "class ExampleWidget(anywidget.AnyWidget):\n",
    "    # anywidget, required #\n",
    "    _esm = \"\"\"\n",
    "    export function render(view) {\n",
    "        view.el.classList.add(\"custom-widget\");\n",
    "        function value_changed() {\n",
    "            view.el.textContent = view.model.get(\"value\");\n",
    "        }\n",
    "        value_changed();\n",
    "        view.model.on(\"change:value\", value_changed);\n",
    "    }\n",
    "    \"\"\"\n",
    "    # anywidget, optional #\n",
    "    _css = \"\"\"\n",
    "    .custom-widget {\n",
    "        background-color: lightseagreen;\n",
    "        padding: 0px 2px;\n",
    "    }\n",
    "    \"\"\"\n",
    "    # custom state for the widget #\n",
    "    value = traitlets.Unicode(\"Hello World\").tag(sync=True)\n",
    "\n",
    "ExampleWidget()"
   ]
  },
  {
   "cell_type": "code",
   "execution_count": null,
   "metadata": {},
   "outputs": [],
   "source": []
  }
 ],
 "metadata": {
  "kernelspec": {
   "display_name": ".venv",
   "language": "python",
   "name": "python3"
  },
  "language_info": {
   "codemirror_mode": {
    "name": "ipython",
    "version": 3
   },
   "file_extension": ".py",
   "mimetype": "text/x-python",
   "name": "python",
   "nbconvert_exporter": "python",
   "pygments_lexer": "ipython3",
   "version": "3.11.2"
  },
  "orig_nbformat": 4
 },
 "nbformat": 4,
 "nbformat_minor": 2
}
