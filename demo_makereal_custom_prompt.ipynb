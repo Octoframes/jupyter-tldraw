{
 "cells": [
  {
   "cell_type": "code",
   "execution_count": null,
   "id": "3568c240-398c-4ae1-84a0-089e752c2ed8",
   "metadata": {
    "scrolled": true
   },
   "outputs": [],
   "source": [
    "from tldraw import MakeReal\n",
    "from api_key import api_key\n",
    "\n",
    "custom_prompt =  \"\"\"\n",
    "You're an data scientist who is working with the pathlib module.\n",
    "In the providied image, you will see some instructions. \n",
    "Follow them to the best of your abilities.\n",
    "\n",
    "Good luck, you've got this!\n",
    "Reply ONLY with python code.\n",
    "\"\"\"\n",
    "\n",
    "m = MakeReal(width=450, height = 400, api_key = api_key, prompt = custom_prompt)\n",
    "m"
   ]
  }
 ],
 "metadata": {
  "kernelspec": {
   "display_name": "Python 3 (ipykernel)",
   "language": "python",
   "name": "python3"
  },
  "language_info": {
   "codemirror_mode": {
    "name": "ipython",
    "version": 3
   },
   "file_extension": ".py",
   "mimetype": "text/x-python",
   "name": "python",
   "nbconvert_exporter": "python",
   "pygments_lexer": "ipython3",
   "version": "3.11.6"
  }
 },
 "nbformat": 4,
 "nbformat_minor": 5
}
