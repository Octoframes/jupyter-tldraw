{
 "cells": [
  {
   "cell_type": "code",
   "execution_count": null,
   "id": "02257131-395f-4d06-a832-836084af255c",
   "metadata": {},
   "outputs": [],
   "source": [
    "from tldraw import TldrawWidgetCoordinates\n",
    "widget = TldrawWidgetCoordinates()\n",
    "widget"
   ]
  },
  {
   "cell_type": "code",
   "execution_count": null,
   "id": "9487023c-32e9-46ea-a04f-19d6e3a63fc4",
   "metadata": {},
   "outputs": [],
   "source": [
    "import ipywidgets as widgets\n",
    "from IPython.display import display\n",
    "output = widgets.Output()\n",
    "def on_color_change(change):\n",
    "    output.clear_output(wait=True)\n",
    "    with output:\n",
    "        print(widget.coord)\n",
    "\n",
    "widget.observe(on_color_change, names='coord')\n",
    "display(output)"
   ]
  }
 ],
 "metadata": {
  "kernelspec": {
   "display_name": "Python 3 (ipykernel)",
   "language": "python",
   "name": "python3"
  },
  "language_info": {
   "codemirror_mode": {
    "name": "ipython",
    "version": 3
   },
   "file_extension": ".py",
   "mimetype": "text/x-python",
   "name": "python",
   "nbconvert_exporter": "python",
   "pygments_lexer": "ipython3",
   "version": "3.12.4"
  }
 },
 "nbformat": 4,
 "nbformat_minor": 5
}
