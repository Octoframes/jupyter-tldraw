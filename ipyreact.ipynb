{
 "cells": [
  {
   "cell_type": "code",
   "execution_count": null,
   "id": "b351a8e0-0fdd-45f2-896a-ef35d9e6e887",
   "metadata": {},
   "outputs": [],
   "source": [
    "from traitlets import  Any, observe\n",
    "from traitlets import Int, Any\n",
    "import ipyreact\n",
    "\n",
    "class Example(ipyreact.ReactWidget):\n",
    "    count = Int(0).tag(sync=True)\n",
    "\n",
    "    @observe(\"count\")\n",
    "    def _observe_count(self, change):\n",
    "        print(f\"Old value: {change['old']}\")\n",
    "        print(f\"New value: {change['new']}\")\n",
    "        print(f\"--------------------------\")\n",
    "\n",
    "    _esm = \"\"\"\n",
    "    import * as React from \"react\";\n",
    "\n",
    "    export default function({set_count, count, prime_message}) {\n",
    "        return <div><button onClick={() => set_count(count + 1)}>\n",
    "            {count} times clicked \n",
    "        </button>\n",
    "        </div>\n",
    "    };\"\"\"\n",
    "\n",
    "\n",
    "Example()"
   ]
  },
  {
   "cell_type": "code",
   "execution_count": null,
   "id": "a5bb93cf",
   "metadata": {},
   "outputs": [],
   "source": [
    "print(\"hi\")"
   ]
  },
  {
   "cell_type": "code",
   "execution_count": null,
   "id": "fa4970d1-358a-481e-b6d4-bd3b20fa00a7",
   "metadata": {},
   "outputs": [],
   "source": [
    "import anywidget\n",
    "from traitlets import Int, Unicode, observe\n",
    "import pathlib\n",
    "\n",
    "class Widget2(anywidget.AnyWidget):\n",
    "    label = Unicode(\"Click me\").tag(sync=True)\n",
    "    count = Int(2).tag(sync=True)\n",
    "\n",
    "    @observe(\"count\")\n",
    "    def _observe_count(self, change):\n",
    "        print(f\"Old value: {change['old']}\")\n",
    "        print(f\"New value: {change['new']}\")\n",
    "        print(f\"--------------------------\")\n",
    "\n",
    "    _esm = pathlib.Path.cwd() / \"src\" / \"tldraw\" / \"static\" / \"testing_observe.js\"\n",
    "            \n",
    "w2 = Widget2()\n",
    "w2"
   ]
  },
  {
   "cell_type": "code",
   "execution_count": null,
   "id": "cc6b2973",
   "metadata": {},
   "outputs": [],
   "source": [
    "print(w2.my_count)"
   ]
  }
 ],
 "metadata": {
  "kernelspec": {
   "display_name": "Python 3 (ipykernel)",
   "language": "python",
   "name": "python3"
  },
  "language_info": {
   "codemirror_mode": {
    "name": "ipython",
    "version": 3
   },
   "file_extension": ".py",
   "mimetype": "text/x-python",
   "name": "python",
   "nbconvert_exporter": "python",
   "pygments_lexer": "ipython3",
   "version": "3.11.4"
  },
  "widgets": {
   "application/vnd.jupyter.widget-state+json": {
    "state": {
     "21fdfebde45b4354be985fc65bbdf838": {
      "model_module": "@widgetti/jupyter-react",
      "model_module_version": "^0.3.0",
      "model_name": "ReactModel",
      "state": {
       "_anywidget_id": "__main__.Example",
       "_esm": "\n    import * as React from \"react\";\n\n    export default function({set_count, count, prime_message}) {\n        return <div><button onClick={() => set_count(count + 1)}>\n            {count} times clicked \n        </button>\n        </div>\n    };",
       "_event_names": [],
       "_import_map": {
        "imports": {
         "@mui/icons-material/": "https://esm.sh/@mui/icons-material/",
         "@mui/material/": "https://esm.sh/@mui/material@5.11.10/",
         "canvas-confetti": "https://esm.sh/canvas-confetti@1.6.0"
        },
        "scopes": {}
       },
       "_model_module_version": "^0.3.0",
       "_view_module_version": "^0.3.0",
       "count": 8,
       "debug": false,
       "layout": "IPY_MODEL_fe275bf611314e0ca0dd42773c7fae5c",
       "name": null,
       "react_version": 18
      }
     },
     "3e9ea36f5d69417b8a7bb46dfdb19042": {
      "model_module": "@widgetti/jupyter-react",
      "model_module_version": "^0.3.0",
      "model_name": "ReactModel",
      "state": {
       "_anywidget_id": "__main__.Example",
       "_esm": "\n    import * as React from \"react\";\n\n    export default function({set_count, count, prime_message}) {\n        return <div><button onClick={() => set_count(count + 1)}>\n            {count} times clicked \n        </button>\n        </div>\n    };",
       "_event_names": [],
       "_import_map": {
        "imports": {
         "@mui/icons-material/": "https://esm.sh/@mui/icons-material/",
         "@mui/material/": "https://esm.sh/@mui/material@5.11.10/",
         "canvas-confetti": "https://esm.sh/canvas-confetti@1.6.0"
        },
        "scopes": {}
       },
       "_model_module_version": "^0.3.0",
       "_view_module_version": "^0.3.0",
       "count": 7,
       "debug": false,
       "layout": "IPY_MODEL_d13f29023950466fbd6f3e985fe36dc9",
       "name": null,
       "react_version": 18
      }
     },
     "55f2ad362c2c47e79ee6e271e4c9e74e": {
      "model_module": "@widgetti/jupyter-react",
      "model_module_version": "^0.3.0",
      "model_name": "ReactModel",
      "state": {
       "_anywidget_id": "__main__.Example",
       "_esm": "\n    import * as React from \"react\";\n\n    export default function({set_count, count, prime_message}) {\n        return <div><button onClick={() => set_count(count + 1)}>\n            {count} times clicked \n        </button>\n        </div>\n    };",
       "_event_names": [],
       "_import_map": {
        "imports": {
         "@mui/icons-material/": "https://esm.sh/@mui/icons-material/",
         "@mui/material/": "https://esm.sh/@mui/material@5.11.10/",
         "canvas-confetti": "https://esm.sh/canvas-confetti@1.6.0"
        },
        "scopes": {}
       },
       "_model_module_version": "^0.3.0",
       "_view_module_version": "^0.3.0",
       "count": 0,
       "debug": false,
       "layout": "IPY_MODEL_f77554d313f34f44953fb9c6733b7be8",
       "name": null,
       "react_version": 18
      }
     },
     "d13f29023950466fbd6f3e985fe36dc9": {
      "model_module": "@jupyter-widgets/base",
      "model_module_version": "2.0.0",
      "model_name": "LayoutModel",
      "state": {}
     },
     "f77554d313f34f44953fb9c6733b7be8": {
      "model_module": "@jupyter-widgets/base",
      "model_module_version": "2.0.0",
      "model_name": "LayoutModel",
      "state": {}
     },
     "fe275bf611314e0ca0dd42773c7fae5c": {
      "model_module": "@jupyter-widgets/base",
      "model_module_version": "2.0.0",
      "model_name": "LayoutModel",
      "state": {}
     }
    },
    "version_major": 2,
    "version_minor": 0
   }
  }
 },
 "nbformat": 4,
 "nbformat_minor": 5
}
