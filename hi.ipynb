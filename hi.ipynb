{
 "cells": [
  {
   "cell_type": "code",
   "execution_count": 1,
   "metadata": {},
   "outputs": [
    {
     "name": "stdout",
     "output_type": "stream",
     "text": [
      "env: ANYWIDGET_HMR=1\n"
     ]
    }
   ],
   "source": [
    "%env ANYWIDGET_HMR=1"
   ]
  },
  {
   "cell_type": "code",
   "execution_count": 1,
   "metadata": {},
   "outputs": [
    {
     "data": {
      "application/vnd.jupyter.widget-view+json": {
       "model_id": "675ee5d743524eccad4a84d510c2c4d8",
       "version_major": 2,
       "version_minor": 0
      },
      "text/plain": [
       "TldrawWidgetCoordinates(points_new=[[100.0, 95.59788891106302], [101.0, 87.49293511071166], [102.0, 80.0125312…"
      ]
     },
     "execution_count": 1,
     "metadata": {},
     "output_type": "execute_result"
    }
   ],
   "source": [
    "import anywidget\n",
    "import pathlib\n",
    "from traitlets import Int\n",
    "from traitlets import List, Any\n",
    "\n",
    "\n",
    "class TldrawWidgetCoordinates(anywidget.AnyWidget):\n",
    "    path_root = pathlib.Path.cwd()\n",
    "    _esm = path_root / \"src\" / \"tldraw\" /  \"static\" / \"coordinates.js\"\n",
    "    _css = path_root / \"src\" / \"tldraw\" /  \"static\" / \"coordinates.css\"\n",
    "\n",
    "    width = Int(600).tag(sync=True)\n",
    "    height = Int(300).tag(sync=True)\n",
    "    value = Int(0).tag(sync=True)\n",
    "    points_new = List(List(Any())).tag(sync=True)\n",
    "\n",
    "    \n",
    "\n",
    "import numpy as np\n",
    "\n",
    "x = np.arange(100, 420, 1)\n",
    "y = 150+100*np.sin(x*0.1)\n",
    "\n",
    "points = np.column_stack((x, y)).tolist()\n",
    "\n",
    "TldrawWidgetCoordinates(points_new=points)"
   ]
  },
  {
   "cell_type": "code",
   "execution_count": null,
   "metadata": {},
   "outputs": [],
   "source": []
  }
 ],
 "metadata": {
  "kernelspec": {
   "display_name": "Python 3 (ipykernel)",
   "language": "python",
   "name": "python3"
  },
  "language_info": {
   "codemirror_mode": {
    "name": "ipython",
    "version": 3
   },
   "file_extension": ".py",
   "mimetype": "text/x-python",
   "name": "python",
   "nbconvert_exporter": "python",
   "pygments_lexer": "ipython3",
   "version": "3.12.3"
  }
 },
 "nbformat": 4,
 "nbformat_minor": 4
}
