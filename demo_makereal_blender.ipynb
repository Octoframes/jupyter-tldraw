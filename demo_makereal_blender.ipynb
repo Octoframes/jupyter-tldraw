{
 "cells": [
  {
   "cell_type": "code",
   "execution_count": 3,
   "id": "3568c240-398c-4ae1-84a0-089e752c2ed8",
   "metadata": {},
   "outputs": [
    {
     "data": {
      "application/vnd.jupyter.widget-view+json": {
       "model_id": "c33f018f560b4f12b172666cfff7a34f",
       "version_major": 2,
       "version_minor": 0
      },
      "text/plain": [
       "MakeReal Widget"
      ]
     },
     "execution_count": 3,
     "metadata": {},
     "output_type": "execute_result"
    }
   ],
   "source": [
    "from tldraw import MakeReal\n",
    "from api_key import api_key\n",
    "\n",
    "custom_prompt =  f\"\"\"\n",
    "Use the bpy API to generate a blender scene.\n",
    "In the providied image, you will see how the scene should look like.\n",
    "Use shape premitives to add the desired shapes and their colors.\n",
    "\n",
    "Reply ONLY with python code.\n",
    "\"\"\"\n",
    "\n",
    "\n",
    "m = MakeReal(width=450, height = 400, api_key = api_key, prompt = custom_prompt)\n",
    "m"
   ]
  },
  {
   "cell_type": "code",
   "execution_count": null,
   "id": "db1d6447-9909-4374-9b5f-00cfc2686e8a",
   "metadata": {},
   "outputs": [],
   "source": [
    "import bpy\n",
    "\n",
    "# Clear existing objects\n",
    "bpy.ops.object.select_all(action='DESELECT')\n",
    "bpy.ops.object.select_by_type(type='MESH')\n",
    "bpy.ops.object.delete()\n",
    "\n",
    "# Function to add a torus and set its properties\n",
    "def add_torus(location, rotation=(0, 0, 0), radius=1, color=(1, 1, 1, 1)):\n",
    "    bpy.ops.mesh.primitive_torus_add(location=location, major_radius=radius, minor_radius=0.1)\n",
    "    obj = bpy.context.object\n",
    "    bpy.context.view_layer.objects.active = obj\n",
    "    bpy.ops.object.shade_smooth()\n",
    "    \n",
    "    # Create a new material with the specified color\n",
    "    mat = bpy.data.materials.new(name=\"TorusMaterial\")\n",
    "    mat.use_nodes = True\n",
    "    principled_bsdf = mat.node_tree.nodes.get('Principled BSDF')\n",
    "    principled_bsdf.inputs['Base Color'].default_value = color\n",
    "    obj.data.materials.append(mat)\n",
    "\n",
    "# Adjust the position coordinates and color of each ring\n",
    "ring_details = [\n",
    "    ((-0.6, 0, 0), 0, (1, 0, 0, 1)),     # Red\n",
    "    ((0.6, 0, 0), 0, (0, 1, 0, 1)),      # Green\n",
    "    ((-1.2, -1, 0), 0, (0, 0, 1, 1)),    # Blue\n",
    "    ((0, -1, 0), 0, (1, 1, 0, 1)),       # Yellow\n",
    "    ((1.2, -1, 0), 0, (1, 0, 1, 1))      # Purple\n",
    "]\n",
    "\n",
    "# Create the rings in the scene\n",
    "for details in ring_details:\n",
    "    add_torus(location=details[0], radius=0.7, color=details[2])\n",
    "\n",
    "# Set the camera position for the scene\n",
    "camera = bpy.data.objects['Camera']\n",
    "camera.location = (0, 0, 6)\n",
    "camera.rotation_euler = (1.5708, 0, 0)  # Pointed downwards\n",
    "\n",
    "# Set the scene lighting\n",
    "bpy.data.lights['Light'].type = 'POINT'\n",
    "bpy.data.lights['Light'].location = (4, -4, 4)"
   ]
  },
  {
   "cell_type": "code",
   "execution_count": null,
   "id": "5000d130-cf3f-49db-953a-b756f0329ff6",
   "metadata": {},
   "outputs": [],
   "source": []
  }
 ],
 "metadata": {
  "kernelspec": {
   "display_name": "Python 3 (ipykernel)",
   "language": "python",
   "name": "python3"
  },
  "language_info": {
   "codemirror_mode": {
    "name": "ipython",
    "version": 3
   },
   "file_extension": ".py",
   "mimetype": "text/x-python",
   "name": "python",
   "nbconvert_exporter": "python",
   "pygments_lexer": "ipython3",
   "version": "3.12.3"
  }
 },
 "nbformat": 4,
 "nbformat_minor": 5
}
