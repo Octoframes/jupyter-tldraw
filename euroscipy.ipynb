{
 "cells": [
  {
   "cell_type": "code",
   "execution_count": null,
   "metadata": {},
   "outputs": [],
   "source": [
    "from tldraw import TldrawWidget\n",
    "c = TldrawWidget(width=900, height=400)\n",
    "c"
   ]
  },
  {
   "cell_type": "code",
   "execution_count": null,
   "metadata": {},
   "outputs": [],
   "source": [
    "c.width = 1200"
   ]
  },
  {
   "cell_type": "code",
   "execution_count": null,
   "metadata": {},
   "outputs": [],
   "source": [
    "from tldraw import TldrawMatplotlib\n",
    "import matplotlib.pyplot as plt"
   ]
  },
  {
   "cell_type": "code",
   "execution_count": null,
   "metadata": {},
   "outputs": [],
   "source": [
    "fig, ax = plt.subplots(figsize=(6, 2))\n",
    "ax.plot([0,10], [0,20], lw = 5);\n",
    "plt.close()\n",
    "\n",
    "widget = TldrawMatplotlib(my_figure=fig)\n",
    "widget"
   ]
  },
  {
   "cell_type": "code",
   "execution_count": null,
   "metadata": {},
   "outputs": [],
   "source": [
    "ax.plot([4,6], [20,0], lw = 7)\n",
    "widget.update_plot(fig)"
   ]
  },
  {
   "cell_type": "code",
   "execution_count": null,
   "metadata": {},
   "outputs": [],
   "source": [
    "from tldraw import TldrawSegmentation\n",
    "(\n",
    "    base64_img_string,\n",
    "    image_width,\n",
    "    image_height,\n",
    "    coins,\n",
    "    edges,\n",
    "    markers,\n",
    ") = TldrawSegmentation.generate_image_assets()\n",
    "\n",
    "\n",
    "tldraw_segmentation = TldrawSegmentation(\n",
    "    image_width=image_width,\n",
    "    image_height=image_height,\n",
    "    base64img=base64_img_string,\n",
    "    coins=coins,\n",
    "    edges=edges,\n",
    "    markers=markers,\n",
    ")\n",
    "tldraw_segmentation"
   ]
  },
  {
   "cell_type": "code",
   "execution_count": null,
   "metadata": {},
   "outputs": [],
   "source": []
  }
 ],
 "metadata": {
  "kernelspec": {
   "display_name": ".venv",
   "language": "python",
   "name": "python3"
  },
  "language_info": {
   "codemirror_mode": {
    "name": "ipython",
    "version": 3
   },
   "file_extension": ".py",
   "mimetype": "text/x-python",
   "name": "python",
   "nbconvert_exporter": "python",
   "pygments_lexer": "ipython3",
   "version": "3.11.4"
  },
  "orig_nbformat": 4
 },
 "nbformat": 4,
 "nbformat_minor": 2
}
