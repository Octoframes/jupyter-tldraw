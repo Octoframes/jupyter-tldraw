{
 "cells": [
  {
   "cell_type": "code",
   "execution_count": 1,
   "id": "013e34ac-f1d8-480e-bb45-b45466590427",
   "metadata": {},
   "outputs": [
    {
     "ename": "ImportError",
     "evalue": "cannot import name 'ReactiveColorPicker' from 'tldraw' (/Users/jan-hendrik/projects/jupyter-tldraw/src/tldraw/__init__.py)",
     "output_type": "error",
     "traceback": [
      "\u001b[0;31m---------------------------------------------------------------------------\u001b[0m",
      "\u001b[0;31mImportError\u001b[0m                               Traceback (most recent call last)",
      "Cell \u001b[0;32mIn[1], line 1\u001b[0m\n\u001b[0;32m----> 1\u001b[0m \u001b[38;5;28;01mfrom\u001b[39;00m \u001b[38;5;21;01mtldraw\u001b[39;00m \u001b[38;5;28;01mimport\u001b[39;00m ReactiveColorPicker\n",
      "\u001b[0;31mImportError\u001b[0m: cannot import name 'ReactiveColorPicker' from 'tldraw' (/Users/jan-hendrik/projects/jupyter-tldraw/src/tldraw/__init__.py)"
     ]
    }
   ],
   "source": [
    "from tldraw import ReactiveColorPicker"
   ]
  },
  {
   "cell_type": "code",
   "execution_count": null,
   "id": "8920f227-c869-425f-83f3-471f19a60f6d",
   "metadata": {},
   "outputs": [],
   "source": []
  }
 ],
 "metadata": {
  "kernelspec": {
   "display_name": "Python 3 (ipykernel)",
   "language": "python",
   "name": "python3"
  },
  "language_info": {
   "codemirror_mode": {
    "name": "ipython",
    "version": 3
   },
   "file_extension": ".py",
   "mimetype": "text/x-python",
   "name": "python",
   "nbconvert_exporter": "python",
   "pygments_lexer": "ipython3",
   "version": "3.12.4"
  },
  "widgets": {
   "application/vnd.jupyter.widget-state+json": {
    "state": {},
    "version_major": 2,
    "version_minor": 0
   }
  }
 },
 "nbformat": 4,
 "nbformat_minor": 5
}
