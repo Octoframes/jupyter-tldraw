{
 "cells": [
  {
   "cell_type": "code",
   "execution_count": null,
   "metadata": {},
   "outputs": [],
   "source": [
    "from pathlib import Path\n",
    "\n",
    "import base64\n",
    "\n",
    "# Assuming the images are now in the 'image_assets' folder and the path is correct\n",
    "image_files = list(Path(\"image_assets\").glob(\"*\"))\n",
    "\n",
    "# Read all images into base64 strings\n",
    "base64_images = {}\n",
    "for image_path in image_files:\n",
    "    with open(image_path, \"rb\") as image_file:\n",
    "        base64_images[image_path.name] = base64.b64encode(image_file.read()).decode(\"utf-8\")\n",
    "\n",
    "base64_img_string_only = base64_images[\"im1.png\"]\n",
    "\n",
    "base64_img_string_only\n",
    "base64_img_string = f\"data:image/png;base64,{base64_img_string_only}\"\n",
    "base64_img_string"
   ]
  },
  {
   "cell_type": "code",
   "execution_count": null,
   "metadata": {},
   "outputs": [],
   "source": [
    "def base64_to_image_dimensions(base64_img_string):\n",
    "    # decode base64 string to bytes\n",
    "    base64_img_string_only = base64_img_string.split(\",\")[1]\n",
    "    decoded_bytes = base64.b64decode(base64_img_string_only)\n",
    "\n",
    "    # check if the file has the PNG signature\n",
    "    if decoded_bytes[:8] != b\"\\x89PNG\\r\\n\\x1a\\n\":\n",
    "        raise ValueError(\"Invalid PNG file\")\n",
    "\n",
    "    # extract the IHDR chunk\n",
    "    ihdr_start = 8\n",
    "    ihdr_end = decoded_bytes.find(b\"IHDR\") + 4 + 8\n",
    "    ihdr_chunk = decoded_bytes[ihdr_start:ihdr_end]\n",
    "\n",
    "    # extract image width and height from the IHDR chunk\n",
    "    image_width = int.from_bytes(ihdr_chunk[8:12], byteorder=\"big\")\n",
    "    image_height = int.from_bytes(ihdr_chunk[12:16], byteorder=\"big\")\n",
    "\n",
    "    return image_width, image_height\n",
    "\n",
    "base64_to_image_dimensions(base64_img_string)"
   ]
  },
  {
   "cell_type": "code",
   "execution_count": null,
   "metadata": {},
   "outputs": [],
   "source": [
    "from tldraw import TldrawImageArray\n",
    "t = TldrawImageArray(base64img= base64_img_string , image_width= int(484/2), image_height= int(401/2))\n",
    "t"
   ]
  },
  {
   "cell_type": "code",
   "execution_count": null,
   "metadata": {},
   "outputs": [],
   "source": [
    "t.image_height"
   ]
  },
  {
   "cell_type": "code",
   "execution_count": null,
   "metadata": {},
   "outputs": [],
   "source": [
    "t.image_width"
   ]
  },
  {
   "cell_type": "code",
   "execution_count": null,
   "metadata": {},
   "outputs": [],
   "source": []
  }
 ],
 "metadata": {
  "kernelspec": {
   "display_name": "Python 3 (ipykernel)",
   "language": "python",
   "name": "python3"
  },
  "language_info": {
   "codemirror_mode": {
    "name": "ipython",
    "version": 3
   },
   "file_extension": ".py",
   "mimetype": "text/x-python",
   "name": "python",
   "nbconvert_exporter": "python",
   "pygments_lexer": "ipython3",
   "version": "3.11.6"
  }
 },
 "nbformat": 4,
 "nbformat_minor": 4
}
