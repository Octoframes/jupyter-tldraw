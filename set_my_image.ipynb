{
 "cells": [
  {
   "cell_type": "code",
   "execution_count": 1,
   "id": "bb8a2fcf-d1f4-4554-9e32-966b2f1a0740",
   "metadata": {},
   "outputs": [],
   "source": [
    "from pathlib import Path\n",
    "import base64\n",
    "\n",
    "image_file_path = Path(\"ideas/image_assets/im1.png\")\n",
    "\n",
    "# Read the image into a base64 string\n",
    "with open(image_file_path, \"rb\") as image_file:\n",
    "    base64_img_string = f\"data:image/png;base64,{base64.b64encode(image_file.read()).decode('utf-8')}\""
   ]
  },
  {
   "cell_type": "code",
   "execution_count": 2,
   "id": "7a363d8a-4392-4a4b-b840-2fb717fb8d74",
   "metadata": {},
   "outputs": [],
   "source": [
    "import anywidget\n",
    "from traitlets import Unicode, Int, Tuple, observe, Bool, List, Any, Dict\n",
    "from pathlib import Path\n",
    "import pathlib\n",
    "import base64\n",
    "\n",
    "class TldrawSetImage(anywidget.AnyWidget):\n",
    "    @staticmethod\n",
    "    def base64_to_image_dimensions(base64_img_string):\n",
    "        base64_img_string_only = base64_img_string.split(\",\")[1]\n",
    "        decoded_bytes = base64.b64decode(base64_img_string_only)\n",
    "        if decoded_bytes[:8] != b\"\\x89PNG\\r\\n\\x1a\\n\":\n",
    "            raise ValueError(\"Invalid PNG file\")\n",
    "        ihdr_start = 8\n",
    "        ihdr_end = decoded_bytes.find(b\"IHDR\") + 4 + 8\n",
    "        ihdr_chunk = decoded_bytes[ihdr_start:ihdr_end]\n",
    "        image_width = int.from_bytes(ihdr_chunk[8:12], byteorder=\"big\")\n",
    "        image_height = int.from_bytes(ihdr_chunk[12:16], byteorder=\"big\")\n",
    "        return image_width, image_height\n",
    "\n",
    "    def __init__(self, **kwargs):\n",
    "        super().__init__(**kwargs)\n",
    "\n",
    "    def set_image(self, base64img):\n",
    "        if not base64img:\n",
    "            raise ValueError(\"No image provided\")\n",
    "\n",
    "        image_width, image_height = self.base64_to_image_dimensions(base64img)\n",
    "        self.image_dimensions = (int(image_width / 2), int(image_height / 2))\n",
    "        self.base64img = base64img\n",
    "\n",
    "    base64img = Unicode(\"\").tag(sync=True)\n",
    "    image_dimensions = Tuple(Int(), Int(), default_value=(0, 0)).tag(sync=True)\n",
    "\n",
    "    \n",
    "    length = Int(100).tag(sync=True)\n",
    "    coord = List().tag(sync=True)\n",
    "\n",
    "    path_root = pathlib.Path().home()\n",
    "    _esm = path_root / \"projects/jupyter-tldraw/src/tldraw/static\" / \"image_set.js\"\n",
    "    _css = path_root / \"projects/jupyter-tldraw/src/tldraw/static\" / \"image_set.css\""
   ]
  },
  {
   "cell_type": "code",
   "execution_count": 3,
   "id": "24adb2f7-2869-4c5c-84f2-fc633594f2f9",
   "metadata": {},
   "outputs": [
    {
     "data": {
      "application/vnd.jupyter.widget-view+json": {
       "model_id": "5986b4fb4df342ac8d052fd9ffd51d89",
       "version_major": 2,
       "version_minor": 0
      },
      "text/plain": [
       "TldrawSetImage(image_dimensions=(0, 0))"
      ]
     },
     "execution_count": 3,
     "metadata": {},
     "output_type": "execute_result"
    }
   ],
   "source": [
    "widget = TldrawSetImage()\n",
    "widget"
   ]
  },
  {
   "cell_type": "code",
   "execution_count": 4,
   "id": "81067c4f-81d4-4198-8e8b-0ee99bb8494d",
   "metadata": {},
   "outputs": [
    {
     "data": {
      "application/vnd.jupyter.widget-view+json": {
       "model_id": "f76706e4a04948c5bab55a4f1606395e",
       "version_major": 2,
       "version_minor": 0
      },
      "text/plain": [
       "Output()"
      ]
     },
     "metadata": {},
     "output_type": "display_data"
    }
   ],
   "source": [
    "import ipywidgets as widgets\n",
    "from IPython.display import display\n",
    "output = widgets.Output()\n",
    "def on_color_change(change):\n",
    "    output.clear_output(wait=True)\n",
    "    with output:\n",
    "        print(widget.coord)\n",
    "        widget.set_image(base64img = base64_img_string)\n",
    "\n",
    "widget.observe(on_color_change, names='coord')\n",
    "display(output)\n",
    "\n",
    "\n",
    "widget.set_image(base64img = base64_img_string)"
   ]
  },
  {
   "cell_type": "code",
   "execution_count": null,
   "id": "900a2134",
   "metadata": {},
   "outputs": [],
   "source": []
  }
 ],
 "metadata": {
  "kernelspec": {
   "display_name": "Python 3 (ipykernel)",
   "language": "python",
   "name": "python3"
  },
  "language_info": {
   "codemirror_mode": {
    "name": "ipython",
    "version": 3
   },
   "file_extension": ".py",
   "mimetype": "text/x-python",
   "name": "python",
   "nbconvert_exporter": "python",
   "pygments_lexer": "ipython3",
   "version": "3.12.4"
  }
 },
 "nbformat": 4,
 "nbformat_minor": 5
}
