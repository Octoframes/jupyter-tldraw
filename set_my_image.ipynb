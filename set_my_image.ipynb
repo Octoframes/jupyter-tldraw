{
 "cells": [
  {
   "cell_type": "code",
   "execution_count": 1,
   "id": "bb8a2fcf-d1f4-4554-9e32-966b2f1a0740",
   "metadata": {},
   "outputs": [],
   "source": [
    "from pathlib import Path\n",
    "import pathlib\n",
    "\n",
    "import base64\n",
    "\n",
    "\n",
    "# Assuming the images are now in the 'image_assets' folder and the path is correct\n",
    "image_files = list(Path(\"ideas/image_assets\").glob(\"*\"))\n",
    "\n",
    "# Read all images into base64 strings\n",
    "base64_images = {}\n",
    "for image_path in image_files:\n",
    "    with open(image_path, \"rb\") as image_file:\n",
    "        base64_img_string_raw = base64.b64encode(image_file.read()).decode(\"utf-8\")\n",
    "        base64_images[\n",
    "            image_path.name\n",
    "        ] = f\"data:image/png;base64,{base64_img_string_raw}\"\n"
   ]
  },
  {
   "cell_type": "code",
   "execution_count": 2,
   "id": "7a363d8a-4392-4a4b-b840-2fb717fb8d74",
   "metadata": {},
   "outputs": [],
   "source": [
    "import anywidget\n",
    "from traitlets import Unicode, Int, Tuple, observe, Bool, List, Any, Dict\n",
    "from pathlib import Path\n",
    "import pathlib\n",
    "import base64\n",
    "\n",
    "class TldrawSetImage(anywidget.AnyWidget):\n",
    "    @staticmethod\n",
    "    def base64_to_image_dimensions(base64_img_string):\n",
    "        base64_img_string_only = base64_img_string.split(\",\")[1]\n",
    "        decoded_bytes = base64.b64decode(base64_img_string_only)\n",
    "        if decoded_bytes[:8] != b\"\\x89PNG\\r\\n\\x1a\\n\":\n",
    "            raise ValueError(\"Invalid PNG file\")\n",
    "        ihdr_start = 8\n",
    "        ihdr_end = decoded_bytes.find(b\"IHDR\") + 4 + 8\n",
    "        ihdr_chunk = decoded_bytes[ihdr_start:ihdr_end]\n",
    "        image_width = int.from_bytes(ihdr_chunk[8:12], byteorder=\"big\")\n",
    "        image_height = int.from_bytes(ihdr_chunk[12:16], byteorder=\"big\")\n",
    "        return image_width, image_height\n",
    "\n",
    "    def __init__(self, **kwargs):\n",
    "        super().__init__(**kwargs)\n",
    "\n",
    "    def set_image(self, base64img):\n",
    "        if not base64img:\n",
    "            raise ValueError(\"No image provided\")\n",
    "\n",
    "        image_width, image_height = self.base64_to_image_dimensions(base64img)\n",
    "        self.image_dimensions = (int(image_width / 2), int(image_height / 2))\n",
    "        self.base64img = base64img\n",
    "\n",
    "    base64img = Unicode(\"\").tag(sync=True)\n",
    "    image_dimensions = Tuple(Int(), Int(), default_value=(0, 0)).tag(sync=True)\n",
    "\n",
    "    \n",
    "    length = Int(100).tag(sync=True)\n",
    "    coord = List().tag(sync=True)\n",
    "\n",
    "    path_root = pathlib.Path.cwd()\n",
    "    _esm = path_root / \"src\" / \"tldraw\" / \"static\" / \"image_set.js\"\n",
    "    _css = path_root / \"src\" / \"tldraw\" / \"static\" / \"image_set.css\""
   ]
  },
  {
   "cell_type": "code",
   "execution_count": 3,
   "id": "24adb2f7-2869-4c5c-84f2-fc633594f2f9",
   "metadata": {},
   "outputs": [
    {
     "data": {
      "application/vnd.jupyter.widget-view+json": {
       "model_id": "4f0729f986314e6d906e4e97c5bf3731",
       "version_major": 2,
       "version_minor": 0
      },
      "text/plain": [
       "TldrawSetImage(image_dimensions=(0, 0))"
      ]
     },
     "execution_count": 3,
     "metadata": {},
     "output_type": "execute_result"
    }
   ],
   "source": [
    "widget = TldrawSetImage()\n",
    "widget"
   ]
  },
  {
   "cell_type": "code",
   "execution_count": 4,
   "id": "81067c4f-81d4-4198-8e8b-0ee99bb8494d",
   "metadata": {},
   "outputs": [],
   "source": [
    "widget.set_image(base64img = base64_images[\"im3.png\"])"
   ]
  },
  {
   "cell_type": "code",
   "execution_count": 5,
   "id": "126fab10-141e-42c9-bd29-484cf7260b4c",
   "metadata": {},
   "outputs": [],
   "source": [
    "widget.set_image(base64img = base64_images[\"im2.png\"])"
   ]
  },
  {
   "cell_type": "code",
   "execution_count": 6,
   "id": "94db19c8-328f-4863-8ad0-21b71e617442",
   "metadata": {},
   "outputs": [
    {
     "data": {
      "text/plain": [
       "[]"
      ]
     },
     "execution_count": 6,
     "metadata": {},
     "output_type": "execute_result"
    }
   ],
   "source": [
    "widget.coord"
   ]
  },
  {
   "cell_type": "code",
   "execution_count": null,
   "id": "255ec84a-2966-4898-a411-c58bd27eb855",
   "metadata": {},
   "outputs": [],
   "source": []
  }
 ],
 "metadata": {
  "kernelspec": {
   "display_name": "Python 3 (ipykernel)",
   "language": "python",
   "name": "python3"
  },
  "language_info": {
   "codemirror_mode": {
    "name": "ipython",
    "version": 3
   },
   "file_extension": ".py",
   "mimetype": "text/x-python",
   "name": "python",
   "nbconvert_exporter": "python",
   "pygments_lexer": "ipython3",
   "version": "3.12.4"
  }
 },
 "nbformat": 4,
 "nbformat_minor": 5
}
