{
 "cells": [
  {
   "cell_type": "code",
   "execution_count": null,
   "id": "bb8a2fcf-d1f4-4554-9e32-966b2f1a0740",
   "metadata": {},
   "outputs": [],
   "source": [
    "from pathlib import Path\n",
    "import base64\n",
    "\n",
    "image_file_path = Path(\"ideas/image_assets/im1.png\")\n",
    "\n",
    "# Read the image into a base64 string\n",
    "with open(image_file_path, \"rb\") as image_file:\n",
    "    base64_img_string = f\"data:image/png;base64,{base64.b64encode(image_file.read()).decode('utf-8')}\""
   ]
  },
  {
   "cell_type": "code",
   "execution_count": null,
   "id": "7a363d8a-4392-4a4b-b840-2fb717fb8d74",
   "metadata": {},
   "outputs": [],
   "source": [
    "from tldraw import TldrawSetImage"
   ]
  },
  {
   "cell_type": "code",
   "execution_count": null,
   "id": "24adb2f7-2869-4c5c-84f2-fc633594f2f9",
   "metadata": {},
   "outputs": [],
   "source": [
    "widget = TldrawSetImage()\n",
    "widget.set_image(base64img = base64_img_string)\n",
    "widget"
   ]
  }
 ],
 "metadata": {
  "kernelspec": {
   "display_name": "Python 3 (ipykernel)",
   "language": "python",
   "name": "python3"
  },
  "language_info": {
   "codemirror_mode": {
    "name": "ipython",
    "version": 3
   },
   "file_extension": ".py",
   "mimetype": "text/x-python",
   "name": "python",
   "nbconvert_exporter": "python",
   "pygments_lexer": "ipython3",
   "version": "3.12.5"
  }
 },
 "nbformat": 4,
 "nbformat_minor": 5
}
