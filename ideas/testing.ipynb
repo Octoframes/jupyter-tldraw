{
 "cells": [
  {
   "cell_type": "code",
   "execution_count": null,
   "id": "648213c6-9a47-45ff-8e64-1e1f13d0c308",
   "metadata": {},
   "outputs": [],
   "source": [
    "from tldraw import TldrawMakeStaticToMarkdown\n",
    "\n",
    "TldrawMakeStaticToMarkdown(width=402)"
   ]
  }
 ],
 "metadata": {
  "kernelspec": {
   "display_name": "Python 3 (ipykernel)",
   "language": "python",
   "name": "python3"
  },
  "language_info": {
   "codemirror_mode": {
    "name": "ipython",
    "version": 3
   },
   "file_extension": ".py",
   "mimetype": "text/x-python",
   "name": "python",
   "nbconvert_exporter": "python",
   "pygments_lexer": "ipython3",
   "version": "3.11.7"
  }
 },
 "nbformat": 4,
 "nbformat_minor": 5
}
