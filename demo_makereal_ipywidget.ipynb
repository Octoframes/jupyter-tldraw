{
 "cells": [
  {
   "cell_type": "code",
   "execution_count": null,
   "id": "3568c240-398c-4ae1-84a0-089e752c2ed8",
   "metadata": {},
   "outputs": [],
   "source": [
    "from tldraw import MakeReal\n",
    "from api_key import api_key\n",
    "\n",
    "\n",
    "\n",
    "custom_prompt =  f\"\"\"\n",
    "Use the ipywidgets module to create a GUI.\n",
    "In the providied image, you will see some instructions how the GUI should look like. \n",
    "Follow them to the best of your abilities.\n",
    "Reply ONLY with python code.\n",
    "\"\"\"\n",
    "\n",
    "m = MakeReal(width=450, height = 400, api_key = api_key, prompt = custom_prompt)\n",
    "m"
   ]
  },
  {
   "cell_type": "code",
   "execution_count": null,
   "id": "8c95ecda-bca1-4527-9f1a-589db2bd3251",
   "metadata": {},
   "outputs": [],
   "source": [
    "import ipywidgets as widgets\n",
    "\n",
    "checkbox = widgets.Checkbox(\n",
    "    value=False,\n",
    "    description='Hello World',\n",
    "    disabled=False,\n",
    "    indent=False\n",
    ")\n",
    "\n",
    "slider = widgets.IntSlider(\n",
    "    value=72,\n",
    "    min=0,\n",
    "    max=100,\n",
    "    step=1,\n",
    "    description='',\n",
    "    continuous_update=False,\n",
    "    orientation='horizontal',\n",
    "    readout=True,\n",
    "    readout_format='d'\n",
    ")\n",
    "\n",
    "ui = widgets.VBox([checkbox, slider])\n",
    "display(ui)"
   ]
  },
  {
   "cell_type": "code",
   "execution_count": null,
   "id": "5626b98c-ace1-4ed6-9051-a4880960f0ce",
   "metadata": {},
   "outputs": [],
   "source": []
  }
 ],
 "metadata": {
  "kernelspec": {
   "display_name": "Python 3 (ipykernel)",
   "language": "python",
   "name": "python3"
  },
  "language_info": {
   "codemirror_mode": {
    "name": "ipython",
    "version": 3
   },
   "file_extension": ".py",
   "mimetype": "text/x-python",
   "name": "python",
   "nbconvert_exporter": "python",
   "pygments_lexer": "ipython3",
   "version": "3.11.7"
  }
 },
 "nbformat": 4,
 "nbformat_minor": 5
}
