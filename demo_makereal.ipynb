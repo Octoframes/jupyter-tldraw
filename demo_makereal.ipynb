{
 "cells": [
  {
   "cell_type": "code",
   "execution_count": null,
   "metadata": {},
   "outputs": [],
   "source": [
    "from tldraw import MakeReal\n",
    "m = MakeReal(width=1002, hight = 2000, api_key = \"\")\n",
    "print(\"hello\")\n",
    "m"
   ]
  }
 ],
 "metadata": {
  "language_info": {
   "name": "python"
  }
 },
 "nbformat": 4,
 "nbformat_minor": 2
}
