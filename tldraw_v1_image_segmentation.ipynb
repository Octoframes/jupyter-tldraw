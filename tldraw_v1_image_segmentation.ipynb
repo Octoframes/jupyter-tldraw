{
 "cells": [
  {
   "cell_type": "code",
   "execution_count": null,
   "metadata": {},
   "outputs": [],
   "source": [
    "from tldraw import TldrawSegmentation\n",
    "(\n",
    "    base64_img_string,\n",
    "    image_width,\n",
    "    image_height,\n",
    "    coins,\n",
    "    edges,\n",
    "    markers,\n",
    ") = TldrawSegmentation.generate_image_assets()\n",
    "\n",
    "\n",
    "tldraw_segmentation = TldrawSegmentation(\n",
    "    image_width=image_width,\n",
    "    image_height=image_height,\n",
    "    base64img=base64_img_string,\n",
    "    coins=coins,\n",
    "    edges=edges,\n",
    "    markers=markers,\n",
    ")\n",
    "tldraw_segmentation"
   ]
  },
  {
   "cell_type": "code",
   "execution_count": null,
   "metadata": {},
   "outputs": [],
   "source": []
  },
  {
   "cell_type": "code",
   "execution_count": null,
   "metadata": {},
   "outputs": [],
   "source": []
  }
 ],
 "metadata": {
  "kernelspec": {
   "display_name": "Python 3 (ipykernel)",
   "language": "python",
   "name": "python3"
  },
  "language_info": {
   "codemirror_mode": {
    "name": "ipython",
    "version": 3
   },
   "file_extension": ".py",
   "mimetype": "text/x-python",
   "name": "python",
   "nbconvert_exporter": "python",
   "pygments_lexer": "ipython3",
   "version": "3.11.4"
  },
  "widgets": {
   "application/vnd.jupyter.widget-state+json": {
    "state": {},
    "version_major": 2,
    "version_minor": 0
   }
  }
 },
 "nbformat": 4,
 "nbformat_minor": 4
}
