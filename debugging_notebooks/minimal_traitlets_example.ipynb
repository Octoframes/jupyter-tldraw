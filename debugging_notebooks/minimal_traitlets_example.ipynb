{
 "cells": [
  {
   "attachments": {},
   "cell_type": "markdown",
   "metadata": {},
   "source": [
    "# My trailets question:\n",
    "\n",
    "1. Why not using simply f-strings?\n",
    "2. How to get the current value of a trailet in python?\n",
    "3. How to deal with strings?\n",
    "4. How to handle numbers?"
   ]
  },
  {
   "attachments": {},
   "cell_type": "markdown",
   "metadata": {},
   "source": [
    "# Getting values from python to react"
   ]
  },
  {
   "cell_type": "code",
   "execution_count": 1,
   "metadata": {},
   "outputs": [
    {
     "name": "stdout",
     "output_type": "stream",
     "text": [
      "<traitlets.traitlets.Int object at 0x103cbf4d0>\n"
     ]
    },
    {
     "data": {
      "application/vnd.jupyter.widget-view+json": {
       "model_id": "6605ff194ac045cebdc94ecf056addeb",
       "version_major": 2,
       "version_minor": 0
      },
      "text/plain": [
       "MyExampleWidget(myname=44)"
      ]
     },
     "execution_count": 1,
     "metadata": {},
     "output_type": "execute_result"
    }
   ],
   "source": [
    "import traitlets\n",
    "import ipyreact\n",
    "\n",
    "class MyExampleWidget(ipyreact.ReactWidget):\n",
    "    myname = traitlets.Integer(3).tag(sync=True)\n",
    "    print(f\"{myname}\")  \n",
    "    _esm = \"\"\"\n",
    "    import * as React from \"react\";\n",
    "    export default function Square({myname}) {\n",
    "        return <button>{myname}</button> \n",
    "    };\"\"\"\n",
    "\n",
    "w = MyExampleWidget(myname =44)\n",
    "w"
   ]
  },
  {
   "cell_type": "code",
   "execution_count": 2,
   "metadata": {},
   "outputs": [
    {
     "name": "stdout",
     "output_type": "stream",
     "text": [
      "<traitlets.traitlets.Int object at 0x103cbf4d0>\n"
     ]
    },
    {
     "data": {
      "application/vnd.jupyter.widget-view+json": {
       "model_id": "372967f569c74aaa84ed525def0cf008",
       "version_major": 2,
       "version_minor": 0
      },
      "text/plain": [
       "MyExampleWidget(myname=44)"
      ]
     },
     "execution_count": 2,
     "metadata": {},
     "output_type": "execute_result"
    }
   ],
   "source": [
    "\n",
    "import traitlets\n",
    "import ipyreact\n",
    "\n",
    "class MyExampleWidget(ipyreact.ReactWidget):\n",
    "    myname = traitlets.Integer().tag(sync=True)\n",
    "    print(MyExampleWidget.myname)  \n",
    "    _esm = \"\"\"\n",
    "    import * as React from \"react\";\n",
    "    export default function Square({myname}) {\n",
    "        return <button>{myname}</button> \n",
    "    };\"\"\"\n",
    "\n",
    "w = MyExampleWidget(myname =44)\n",
    "w"
   ]
  },
  {
   "cell_type": "code",
   "execution_count": 3,
   "metadata": {},
   "outputs": [
    {
     "name": "stdout",
     "output_type": "stream",
     "text": [
      "<traitlets.traitlets.Unicode object at 0x103e41850>\n"
     ]
    },
    {
     "data": {
      "application/vnd.jupyter.widget-view+json": {
       "model_id": "975d2d252d00402dafe499b8ba917b37",
       "version_major": 2,
       "version_minor": 0
      },
      "text/plain": [
       "MyExampleWidget(myname='foo')"
      ]
     },
     "execution_count": 3,
     "metadata": {},
     "output_type": "execute_result"
    }
   ],
   "source": [
    "import traitlets\n",
    "import ipyreact\n",
    "\n",
    "class MyExampleWidget(ipyreact.ReactWidget):\n",
    "    myname = traitlets.Unicode(\"Hello World\").tag(sync=True)\n",
    "    print(f\"{myname}\")\n",
    "    _esm = \"\"\"\n",
    "    import * as React from \"react\";\n",
    "    export default function Square({myname}) {\n",
    "        return <button>{myname}</button> \n",
    "    };\"\"\"\n",
    "w = MyExampleWidget(myname = \"foo\")\n",
    "w"
   ]
  },
  {
   "attachments": {},
   "cell_type": "markdown",
   "metadata": {},
   "source": [
    "# more advanced"
   ]
  },
  {
   "cell_type": "code",
   "execution_count": 4,
   "metadata": {},
   "outputs": [
    {
     "data": {
      "application/vnd.jupyter.widget-view+json": {
       "model_id": "378c45e296604b97a880e78098e428ad",
       "version_major": 2,
       "version_minor": 0
      },
      "text/plain": [
       "OtherCountWidget(count=16, is_even='True')"
      ]
     },
     "execution_count": 4,
     "metadata": {},
     "output_type": "execute_result"
    }
   ],
   "source": [
    "import ipyreact\n",
    "from traitlets import Any,  Int, observe\n",
    "class OtherCountWidget(ipyreact.ReactWidget):\n",
    "    is_even = Any(False).tag(sync=True)\n",
    "    count = Int(0).tag(sync=True)\n",
    "\n",
    "    @observe('count')\n",
    "    def _observe_value(self, change):\n",
    "        new_val = self.count\n",
    "        if new_val %2 == 0:\n",
    "            self.is_even = 'True'\n",
    "        else:\n",
    "            self.is_even = 'False'\n",
    "    \n",
    "    _esm = \"\"\"\n",
    "    import confetti from \"canvas-confetti\";\n",
    "    import * as React from \"react\";\n",
    "\n",
    "    export default function({on_count, debug, count, is_even}) {\n",
    "        return <div><button onClick={() => confetti() && on_count(count + 1)}>\n",
    "            {count} times confetti\n",
    "        </button>\n",
    "        <span>count is even == {is_even.toString()} </span>\n",
    "        </div>\n",
    "    };\"\"\"\n",
    "ocw = OtherCountWidget(count = 16)\n",
    "ocw\n",
    "\n",
    "\n"
   ]
  },
  {
   "cell_type": "code",
   "execution_count": null,
   "metadata": {},
   "outputs": [],
   "source": []
  }
 ],
 "metadata": {
  "kernelspec": {
   "display_name": ".venv",
   "language": "python",
   "name": "python3"
  },
  "language_info": {
   "codemirror_mode": {
    "name": "ipython",
    "version": 3
   },
   "file_extension": ".py",
   "mimetype": "text/x-python",
   "name": "python",
   "nbconvert_exporter": "python",
   "pygments_lexer": "ipython3",
   "version": "3.11.3"
  },
  "orig_nbformat": 4
 },
 "nbformat": 4,
 "nbformat_minor": 2
}
