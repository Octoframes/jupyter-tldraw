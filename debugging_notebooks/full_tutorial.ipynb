{
 "cells": [
  {
   "cell_type": "markdown",
   "id": "d8ec9a76-0819-463d-8955-55789ee36400",
   "metadata": {},
   "source": [
    "# Ipyreact Tutorial"
   ]
  },
  {
   "cell_type": "markdown",
   "id": "083f2dc7-c0ec-482f-a720-aa2896ad193e",
   "metadata": {
    "tags": []
   },
   "source": [
    "Welcome to this ipyreact walkthrough.\n",
    "\n",
    "# Here you will learn:\n",
    "* How to use the %react cell magic\n",
    "* How to write a widegt\n",
    "* How to load css for your widget\n",
    "* how to add parameters to your widgets\n",
    "* how to interact with these parameters"
   ]
  },
  {
   "cell_type": "markdown",
   "id": "06cb067d-0aea-4851-827d-d07f22466693",
   "metadata": {},
   "source": [
    "The tuturial will be based on a very simple react button to show all the ipyreact features.  \n",
    "First, we will use the `%react` magic from ipyreact.  \n",
    "The following line registers the cellmagic:"
   ]
  },
  {
   "cell_type": "code",
   "execution_count": 1,
   "id": "2bbfd776-52a4-4ec5-b340-bd543423ea92",
   "metadata": {
    "tags": []
   },
   "outputs": [],
   "source": [
    "%load_ext ipyreact"
   ]
  },
  {
   "cell_type": "code",
   "execution_count": 2,
   "id": "c70f7253-98d5-4131-bf6b-1ac3433e2985",
   "metadata": {
    "tags": []
   },
   "outputs": [
    {
     "data": {
      "application/vnd.jupyter.widget-view+json": {
       "model_id": "e69be79082454286a49c7f832e46faa3",
       "version_major": 2,
       "version_minor": 0
      },
      "text/plain": [
       "Widget()"
      ]
     },
     "metadata": {},
     "output_type": "display_data"
    }
   ],
   "source": [
    "%%react\n",
    "\n",
    "import * as React from \"react\";\n",
    "\n",
    "export default function Square() {\n",
    "  return (<button> X </button>);\n",
    "  }"
   ]
  },
  {
   "cell_type": "markdown",
   "id": "4b51d34f-8abc-4b7b-936e-6d582a1b64fe",
   "metadata": {},
   "source": [
    "That worked! Next, we convert this into a widget.\n",
    "For that, we need the code in a _ems string inside a class that inherits from `ipyreact.ReactWidget`"
   ]
  },
  {
   "cell_type": "code",
   "execution_count": 3,
   "id": "7c70385c-638e-482b-80e1-6f27614da867",
   "metadata": {
    "tags": []
   },
   "outputs": [
    {
     "data": {
      "application/vnd.jupyter.widget-view+json": {
       "model_id": "6e5280d322cd427895a9f0222fb14eda",
       "version_major": 2,
       "version_minor": 0
      },
      "text/plain": [
       "MyExampleWidget()"
      ]
     },
     "execution_count": 3,
     "metadata": {},
     "output_type": "execute_result"
    }
   ],
   "source": [
    "import ipyreact\n",
    "\n",
    "class MyExampleWidget(ipyreact.ReactWidget):\n",
    "    _esm = \"\"\"\n",
    "    import * as React from \"react\";\n",
    "\n",
    "    export default function Square() {\n",
    "        return <button> X </button> \n",
    "        };\"\"\"\n",
    "MyExampleWidget()"
   ]
  },
  {
   "cell_type": "code",
   "execution_count": null,
   "id": "c3bd1de5-cc45-495e-b0c3-0d8e12760959",
   "metadata": {},
   "outputs": [],
   "source": []
  }
 ],
 "metadata": {
  "kernelspec": {
   "display_name": "Python 3 (ipykernel)",
   "language": "python",
   "name": "python3"
  },
  "language_info": {
   "codemirror_mode": {
    "name": "ipython",
    "version": 3
   },
   "file_extension": ".py",
   "mimetype": "text/x-python",
   "name": "python",
   "nbconvert_exporter": "python",
   "pygments_lexer": "ipython3",
   "version": "3.11.3"
  }
 },
 "nbformat": 4,
 "nbformat_minor": 5
}
