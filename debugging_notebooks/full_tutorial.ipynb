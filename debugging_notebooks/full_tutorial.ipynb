{
 "cells": [
  {
   "cell_type": "markdown",
   "id": "d8ec9a76-0819-463d-8955-55789ee36400",
   "metadata": {},
   "source": [
    "# Ipyreact Tutorial"
   ]
  },
  {
   "cell_type": "markdown",
   "id": "083f2dc7-c0ec-482f-a720-aa2896ad193e",
   "metadata": {
    "tags": []
   },
   "source": [
    "Welcome to this ipyreact walkthrough.\n",
    "\n",
    "## Content\n",
    "* How to use the %react cell magic\n",
    "* How to write a widegt\n",
    "* How to load css for your widget\n",
    "* how to add parameters to your widgets\n",
    "* how to interact with these parameters\n",
    "\n",
    "The tuturial will be based on a very simple react button to show all the ipyreact features.  \n"
   ]
  },
  {
   "cell_type": "markdown",
   "id": "06cb067d-0aea-4851-827d-d07f22466693",
   "metadata": {},
   "source": [
    "First, we will use the **`%react` magic**  from ipyreact.  \n",
    "The following line registers the cellmagic:"
   ]
  },
  {
   "cell_type": "code",
   "execution_count": 25,
   "id": "2bbfd776-52a4-4ec5-b340-bd543423ea92",
   "metadata": {
    "tags": []
   },
   "outputs": [
    {
     "name": "stdout",
     "output_type": "stream",
     "text": [
      "The ipyreact extension is already loaded. To reload it, use:\n",
      "  %reload_ext ipyreact\n"
     ]
    }
   ],
   "source": [
    "%load_ext ipyreact"
   ]
  },
  {
   "cell_type": "code",
   "execution_count": 26,
   "id": "c70f7253-98d5-4131-bf6b-1ac3433e2985",
   "metadata": {
    "tags": []
   },
   "outputs": [
    {
     "data": {
      "application/vnd.jupyter.widget-view+json": {
       "model_id": "f192f16e8e5049a996504e789c34193e",
       "version_major": 2,
       "version_minor": 0
      },
      "text/plain": [
       "Widget()"
      ]
     },
     "metadata": {},
     "output_type": "display_data"
    }
   ],
   "source": [
    "%%react\n",
    "\n",
    "import * as React from \"react\";\n",
    "\n",
    "export default function Square() {\n",
    "  return (<button> X </button>);\n",
    "  }"
   ]
  },
  {
   "cell_type": "markdown",
   "id": "4b51d34f-8abc-4b7b-936e-6d582a1b64fe",
   "metadata": {},
   "source": [
    "This works like charm!  \n",
    "Next, we **convert this into a widget.**  \n",
    "For that, we need the code in a _ems string inside a class that inherits from `ipyreact.ReactWidget`"
   ]
  },
  {
   "cell_type": "code",
   "execution_count": 27,
   "id": "7c70385c-638e-482b-80e1-6f27614da867",
   "metadata": {
    "tags": []
   },
   "outputs": [
    {
     "data": {
      "application/vnd.jupyter.widget-view+json": {
       "model_id": "6c475eeda77340909c99561c370fa860",
       "version_major": 2,
       "version_minor": 0
      },
      "text/plain": [
       "MyExampleWidget()"
      ]
     },
     "execution_count": 27,
     "metadata": {},
     "output_type": "execute_result"
    }
   ],
   "source": [
    "import ipyreact\n",
    "\n",
    "class MyExampleWidget(ipyreact.ReactWidget):\n",
    "    _esm = \"\"\"\n",
    "    import * as React from \"react\";\n",
    "\n",
    "    export default function Square() {\n",
    "        return <button> X </button> \n",
    "        };\"\"\"\n",
    "MyExampleWidget()"
   ]
  },
  {
   "cell_type": "markdown",
   "id": "35f22aef-50c2-4772-b9fa-44f5fb486ee6",
   "metadata": {},
   "source": [
    "now it's time to make some **styling using CSS**"
   ]
  },
  {
   "cell_type": "code",
   "execution_count": 32,
   "id": "38e8afeb-274c-4c62-99a7-6200fc9c179d",
   "metadata": {
    "tags": []
   },
   "outputs": [
    {
     "data": {
      "text/html": [
       "<style>\n",
       "button {\n",
       "    background-color: yellow;\n",
       "    border-radius: 10px;\n",
       "    }\n",
       "</style>"
      ],
      "text/plain": [
       "<IPython.core.display.HTML object>"
      ]
     },
     "execution_count": 32,
     "metadata": {},
     "output_type": "execute_result"
    }
   ],
   "source": [
    "from IPython.display import HTML\n",
    "css_rules = \"\"\"\n",
    "button {\n",
    "    background-color: yellow;\n",
    "    border-radius: 10px;\n",
    "    }\n",
    "\"\"\"\n",
    "HTML('<style>' + css_rules + '</style>')"
   ]
  },
  {
   "cell_type": "markdown",
   "id": "cb19480f-b3c6-44be-968c-06edf944d42f",
   "metadata": {},
   "source": [
    "You can also load CSS from a file.  \n",
    "And you can add extra CSS without overwriting the previous CSS import."
   ]
  },
  {
   "cell_type": "code",
   "execution_count": 33,
   "id": "c4a644e0-1dbe-4f50-9bb5-5a54f1fedbaf",
   "metadata": {
    "tags": []
   },
   "outputs": [
    {
     "data": {
      "text/html": [
       "<style>button {\n",
       "    color: orange;\n",
       "    border-color: orange;\n",
       "    font-weight: bold;\n",
       "    border-width: 2.5px;\n",
       "\n",
       "}</style>"
      ],
      "text/plain": [
       "<IPython.core.display.HTML object>"
      ]
     },
     "execution_count": 33,
     "metadata": {},
     "output_type": "execute_result"
    }
   ],
   "source": [
    "from IPython.display import HTML\n",
    "from pathlib import Path\n",
    "css_rules = Path('styles_orange.css').read_text()\n",
    "HTML('<style>' + css_rules + '</style>')"
   ]
  },
  {
   "cell_type": "markdown",
   "id": "f571eadd-1a94-4ffe-af43-1c5ef1ec2498",
   "metadata": {
    "tags": []
   },
   "source": [
    "Note: When you clear the output of the previous cell, this CSS style will be removed from the notebook."
   ]
  },
  {
   "cell_type": "markdown",
   "id": "b50fbd27-5679-48ea-b2cc-ff9c5c79f826",
   "metadata": {
    "tags": []
   },
   "source": [
    "Next, we want to **add parameters to the widget.**  \n",
    "First naive approach: Using f-strings.\n",
    "That works, but is bad for two reasons:\n",
    "1. curly brackets from f-strings will colide with the curly brackets from css. \n",
    "Using curly brackets in an f-string as a normal character can be done by doubling them like this : `{`to `{{`.\n",
    "2. It is not possible to pass this parameter into the `MyExampleWidget` class, as it does not have an init function.\n",
    "TODO: give a reason why there is no normal init function."
   ]
  },
  {
   "cell_type": "code",
   "execution_count": 35,
   "id": "6fdda6ec-d6df-42bb-964c-66b686596ff2",
   "metadata": {
    "tags": []
   },
   "outputs": [
    {
     "data": {
      "application/vnd.jupyter.widget-view+json": {
       "model_id": "be155b4ce4664f9f8c9f3f9ee6c274a1",
       "version_major": 2,
       "version_minor": 0
      },
      "text/plain": [
       "MyExampleWidget()"
      ]
     },
     "execution_count": 35,
     "metadata": {},
     "output_type": "execute_result"
    }
   ],
   "source": [
    "import ipyreact\n",
    "\n",
    "# ❌❌❌  WARNING: THIS CODEBLOCK IS NOT GOOD PRACTICE ❌❌❌ \n",
    "class MyExampleWidget(ipyreact.ReactWidget):\n",
    "    my_message = \"Hello World\"\n",
    "    _esm = f\"\"\"\n",
    "    import * as React from \"react\";\n",
    "\n",
    "    export default function Square() {{\n",
    "        return <button> {my_message} </button> \n",
    "        }};\"\"\"\n",
    "MyExampleWidget()"
   ]
  },
  {
   "cell_type": "markdown",
   "id": "944363e3-92b1-4ee6-8e16-1a2f6879fefb",
   "metadata": {},
   "source": [
    "Instead, we can **use traitlets.**  \n",
    "traitlets are variables that can be used both in javascript and python.  \n",
    "Note that it has to be initilized at `Square({my_message})`"
   ]
  },
  {
   "cell_type": "code",
   "execution_count": 7,
   "id": "0e27dc18-82f2-4598-9117-9e0cfec49f99",
   "metadata": {
    "tags": []
   },
   "outputs": [
    {
     "data": {
      "application/vnd.jupyter.widget-view+json": {
       "model_id": "b91e89bf928247519482c6b9cee36ac4",
       "version_major": 2,
       "version_minor": 0
      },
      "text/plain": [
       "MyExampleWidget()"
      ]
     },
     "execution_count": 7,
     "metadata": {},
     "output_type": "execute_result"
    }
   ],
   "source": [
    "import ipyreact\n",
    "from traitlets import Unicode\n",
    "\n",
    "# ⭐⭐⭐  This is good practice again ⭐⭐⭐ \n",
    "class MyExampleWidget(ipyreact.ReactWidget):\n",
    "    my_message = Unicode(\"Hi There\").tag(sync=True)\n",
    "    _esm = \"\"\"\n",
    "    import * as React from \"react\";\n",
    "\n",
    "    export default function Square({my_message}) {\n",
    "        return <button> {my_message} </button> \n",
    "        };\"\"\"\n",
    "MyExampleWidget()"
   ]
  },
  {
   "cell_type": "code",
   "execution_count": 8,
   "id": "e2fb6dcb-4477-4ff5-a7d0-5e0f209d83cf",
   "metadata": {
    "tags": []
   },
   "outputs": [
    {
     "data": {
      "application/vnd.jupyter.widget-view+json": {
       "model_id": "59b4debcd40f465e933721a603e9f208",
       "version_major": 2,
       "version_minor": 0
      },
      "text/plain": [
       "MyExampleWidget(my_message='Super Button')"
      ]
     },
     "execution_count": 8,
     "metadata": {},
     "output_type": "execute_result"
    }
   ],
   "source": [
    "# we can use this traitlets also as parameters\n",
    "MyExampleWidget(my_message = \"Super Button\")"
   ]
  },
  {
   "cell_type": "markdown",
   "id": "12f3691c-6d99-40ac-b80d-1db9b6f5d78c",
   "metadata": {},
   "source": [
    "Now comes an example of a button that changes the postion using traitlets"
   ]
  },
  {
   "cell_type": "code",
   "execution_count": 9,
   "id": "56c9e4d7-03fc-4a30-81f8-83d63bab170a",
   "metadata": {
    "tags": []
   },
   "outputs": [
    {
     "data": {
      "application/vnd.jupyter.widget-view+json": {
       "model_id": "c7c55d0411364a489c2ebf7d4edbe027",
       "version_major": 2,
       "version_minor": 0
      },
      "text/plain": [
       "MyExampleWidget(my_width=300)"
      ]
     },
     "execution_count": 9,
     "metadata": {},
     "output_type": "execute_result"
    }
   ],
   "source": [
    "import ipyreact\n",
    "from traitlets import Int\n",
    "\n",
    "class MyExampleWidget(ipyreact.ReactWidget):\n",
    "    my_width = Int(23).tag(sync=True)\n",
    "    _esm = \"\"\"\n",
    "    import * as React from \"react\";\n",
    "\n",
    "    export default function Square({my_width}) {\n",
    "        return <button style={{\n",
    "        position: \"relative\",\n",
    "        width: my_width,\n",
    "        height: 30,\n",
    "      }}\n",
    "        > Width of {my_width} px  </button> \n",
    "        };\"\"\"\n",
    "MyExampleWidget(my_width = 300)"
   ]
  },
  {
   "cell_type": "code",
   "execution_count": 10,
   "id": "4dba603f-8052-4d8d-845d-d28029e17c35",
   "metadata": {
    "tags": []
   },
   "outputs": [
    {
     "data": {
      "application/vnd.jupyter.widget-view+json": {
       "model_id": "043e3d83869843c3a81b729700e3dc3a",
       "version_major": 2,
       "version_minor": 0
      },
      "text/plain": [
       "MyExampleWidget(my_width=600)"
      ]
     },
     "execution_count": 10,
     "metadata": {},
     "output_type": "execute_result"
    }
   ],
   "source": [
    "MyExampleWidget(my_width = 600)\n",
    "#MyExampleWidget(my_width = \"Hello\") # <- this will throw an error, as my_width expects an integer"
   ]
  },
  {
   "cell_type": "code",
   "execution_count": 11,
   "id": "93f2c43e-5a25-4787-a7a4-11f71a7ddbd1",
   "metadata": {
    "tags": []
   },
   "outputs": [
    {
     "data": {
      "application/vnd.jupyter.widget-view+json": {
       "model_id": "8a04232578014e8296583d7d0c3838c5",
       "version_major": 2,
       "version_minor": 0
      },
      "text/plain": [
       "MyExampleWidget(my_width=600)"
      ]
     },
     "execution_count": 11,
     "metadata": {},
     "output_type": "execute_result"
    }
   ],
   "source": [
    "# you can also create an instance of a class\n",
    "w = MyExampleWidget(my_width = 600)\n",
    "w"
   ]
  },
  {
   "cell_type": "code",
   "execution_count": 12,
   "id": "10d5d10c-2254-4be3-ac2b-66b851120b03",
   "metadata": {
    "tags": []
   },
   "outputs": [
    {
     "data": {
      "application/vnd.jupyter.widget-view+json": {
       "model_id": "8a04232578014e8296583d7d0c3838c5",
       "version_major": 2,
       "version_minor": 0
      },
      "text/plain": [
       "MyExampleWidget(my_width=600)"
      ]
     },
     "execution_count": 12,
     "metadata": {},
     "output_type": "execute_result"
    }
   ],
   "source": [
    "# and display this instance multiple times\n",
    "w"
   ]
  },
  {
   "cell_type": "code",
   "execution_count": 13,
   "id": "dc012a29-d639-48bd-b18f-21d687063e0d",
   "metadata": {
    "tags": []
   },
   "outputs": [],
   "source": [
    "w.my_width = 400 # see how this will change the button width"
   ]
  },
  {
   "cell_type": "code",
   "execution_count": 14,
   "id": "9dcc8417-b470-4981-aa77-4382e81882af",
   "metadata": {
    "tags": []
   },
   "outputs": [],
   "source": [
    "w.my_width = 200 # and one more time"
   ]
  },
  {
   "cell_type": "markdown",
   "id": "82c9fbe3-6112-4dae-b817-e1a12343b407",
   "metadata": {},
   "source": [
    "one more thing:  \n",
    "Having **autocompletion in IDEs** is awesome!  \n",
    "traitlets don't have that by default, but adding a `signature_has_traits` decorator will do the job!"
   ]
  },
  {
   "cell_type": "code",
   "execution_count": 15,
   "id": "89793f7c-1398-4f11-ab75-b73ffacd9b43",
   "metadata": {
    "tags": []
   },
   "outputs": [
    {
     "data": {
      "application/vnd.jupyter.widget-view+json": {
       "model_id": "74c5b3806ff948c6b1483cb2a1aed328",
       "version_major": 2,
       "version_minor": 0
      },
      "text/plain": [
       "MyExampleWidget(my_width=300)"
      ]
     },
     "execution_count": 15,
     "metadata": {},
     "output_type": "execute_result"
    }
   ],
   "source": [
    "import ipyreact\n",
    "from traitlets import Any, Unicode, Int, observe, signature_has_traits\n",
    "\n",
    "@signature_has_traits\n",
    "class MyExampleWidget(ipyreact.ReactWidget):\n",
    "    my_width = Int(23).tag(sync=True)\n",
    "    _esm = \"\"\"\n",
    "    import * as React from \"react\";\n",
    "\n",
    "    export default function Square({my_width}) {\n",
    "        return <button style={{\n",
    "        position: \"relative\",\n",
    "        width: my_width,\n",
    "        height: 30,\n",
    "      }}\n",
    "        > Width of {my_width} px  </button> \n",
    "        };\"\"\"\n",
    "MyExampleWidget(my_width = 300)"
   ]
  },
  {
   "attachments": {
    "ad7645fb-86f2-436a-8949-6d60904bb7ba.png": {
     "image/png": "[encoded data removed]"
    }
   },
   "cell_type": "markdown",
   "id": "ad566235-e86f-42c8-a138-1bdc53dc3bf5",
   "metadata": {},
   "source": [
    "And this screenshots shows that autocompletion works now:  \n",
    "<img src=\"attachment:ad7645fb-86f2-436a-8949-6d60904bb7ba.png\" width=\"400\">"
   ]
  },
  {
   "cell_type": "markdown",
   "id": "bae77944-e0dd-49c4-bd27-b401d7bbef1b",
   "metadata": {},
   "source": [
    "Now we want to **print a message at class initiliation** that says \"Button was initilized with width 300px!\"  \n",
    "That is possible, but not very streight forward, so feel free to skip this example.  "
   ]
  },
  {
   "cell_type": "code",
   "execution_count": 36,
   "id": "124771ca-8271-4b5e-9f5d-ee792442665b",
   "metadata": {
    "tags": []
   },
   "outputs": [
    {
     "name": "stdout",
     "output_type": "stream",
     "text": [
      "Button was initilized with width of 200px \n"
     ]
    },
    {
     "data": {
      "application/vnd.jupyter.widget-view+json": {
       "model_id": "2e69ca1299f5465f825a104a7cec2162",
       "version_major": 2,
       "version_minor": 0
      },
      "text/plain": [
       "MyExampleWidget(my_width=200)"
      ]
     },
     "execution_count": 36,
     "metadata": {},
     "output_type": "execute_result"
    }
   ],
   "source": [
    "import ipyreact\n",
    "from traitlets import Any, Unicode, Int, observe, signature_has_traits\n",
    "\n",
    "# 🪄🪄🪄 this is an advanced example, feel free to skip 🪄🪄🪄\n",
    "\n",
    "@signature_has_traits\n",
    "class MyExampleWidget(ipyreact.ReactWidget):\n",
    "    def __init__(self, **kwargs):\n",
    "        super().__init__(**kwargs)\n",
    "        self.print_welcome_message()\n",
    "\n",
    "    def print_welcome_message(self):\n",
    "        print(f\"Button was initilized with width of {self.my_width}px \")\n",
    "            \n",
    "    my_width = Int(23).tag(sync=True)\n",
    "\n",
    "    _esm = \"\"\"\n",
    "    import * as React from \"react\";\n",
    "\n",
    "    export default function Square({my_width}) {\n",
    "        return <button style={{\n",
    "        position: \"relative\",\n",
    "        width: my_width,\n",
    "        height: 30,\n",
    "      }}\n",
    "        > Width of {my_width} px  </button> \n",
    "        };\"\"\"\n",
    "MyExampleWidget(my_width = 200)"
   ]
  },
  {
   "cell_type": "code",
   "execution_count": null,
   "id": "75e33a29-3233-40b5-a58c-91b9c354d5c8",
   "metadata": {},
   "outputs": [],
   "source": []
  }
 ],
 "metadata": {
  "kernelspec": {
   "display_name": "Python 3 (ipykernel)",
   "language": "python",
   "name": "python3"
  },
  "language_info": {
   "codemirror_mode": {
    "name": "ipython",
    "version": 3
   },
   "file_extension": ".py",
   "mimetype": "text/x-python",
   "name": "python",
   "nbconvert_exporter": "python",
   "pygments_lexer": "ipython3",
   "version": "3.11.3"
  }
 },
 "nbformat": 4,
 "nbformat_minor": 5
}
