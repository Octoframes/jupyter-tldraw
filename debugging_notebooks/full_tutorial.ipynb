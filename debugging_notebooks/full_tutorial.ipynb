{
 "cells": [
  {
   "cell_type": "markdown",
   "id": "d8ec9a76-0819-463d-8955-55789ee36400",
   "metadata": {},
   "source": [
    "# Ipyreact Tutorial"
   ]
  },
  {
   "cell_type": "markdown",
   "id": "083f2dc7-c0ec-482f-a720-aa2896ad193e",
   "metadata": {
    "tags": []
   },
   "source": [
    "Welcome to this ipyreact walkthrough.\n",
    "\n",
    "# Here you will learn:\n",
    "* How to use the %react cell magic\n",
    "* How to write a widegt\n",
    "* How to load css for your widget\n",
    "* how to add parameters to your widgets\n",
    "* how to interact with these parameters"
   ]
  },
  {
   "cell_type": "markdown",
   "id": "06cb067d-0aea-4851-827d-d07f22466693",
   "metadata": {},
   "source": [
    "The tuturial will be based on a very simple react button to show all the ipyreact features.  \n",
    "First, we will use the `%react` magic from ipyreact.  \n",
    "The following line registers the cellmagic:"
   ]
  },
  {
   "cell_type": "code",
   "execution_count": 1,
   "id": "2bbfd776-52a4-4ec5-b340-bd543423ea92",
   "metadata": {
    "tags": []
   },
   "outputs": [],
   "source": [
    "%load_ext ipyreact"
   ]
  },
  {
   "cell_type": "code",
   "execution_count": 2,
   "id": "c70f7253-98d5-4131-bf6b-1ac3433e2985",
   "metadata": {
    "tags": []
   },
   "outputs": [
    {
     "data": {
      "application/vnd.jupyter.widget-view+json": {
       "model_id": "140abdd756724bd9a7d7efc0bb9c485c",
       "version_major": 2,
       "version_minor": 0
      },
      "text/plain": [
       "Widget()"
      ]
     },
     "metadata": {},
     "output_type": "display_data"
    }
   ],
   "source": [
    "%%react\n",
    "\n",
    "import * as React from \"react\";\n",
    "\n",
    "export default function Square() {\n",
    "  return (<button> X </button>);\n",
    "  }"
   ]
  },
  {
   "cell_type": "markdown",
   "id": "4b51d34f-8abc-4b7b-936e-6d582a1b64fe",
   "metadata": {},
   "source": [
    "That worked! Next, we convert this into a widget.\n",
    "For that, we need the code in a _ems string inside a class that inherits from `ipyreact.ReactWidget`"
   ]
  },
  {
   "cell_type": "code",
   "execution_count": null,
   "id": "d4be2004-c129-4fa8-bdc3-de2d965d2c67",
   "metadata": {},
   "outputs": [],
   "source": []
  },
  {
   "cell_type": "code",
   "execution_count": 3,
   "id": "7c70385c-638e-482b-80e1-6f27614da867",
   "metadata": {
    "tags": []
   },
   "outputs": [
    {
     "data": {
      "application/vnd.jupyter.widget-view+json": {
       "model_id": "baa53add66d94e3ebe52f72ff8050876",
       "version_major": 2,
       "version_minor": 0
      },
      "text/plain": [
       "MyExampleWidget()"
      ]
     },
     "execution_count": 3,
     "metadata": {},
     "output_type": "execute_result"
    }
   ],
   "source": [
    "import ipyreact\n",
    "\n",
    "class MyExampleWidget(ipyreact.ReactWidget):\n",
    "    _esm = \"\"\"\n",
    "    import * as React from \"react\";\n",
    "\n",
    "    export default function Square() {\n",
    "        return <button> X </button> \n",
    "        };\"\"\"\n",
    "MyExampleWidget()"
   ]
  },
  {
   "cell_type": "markdown",
   "id": "35f22aef-50c2-4772-b9fa-44f5fb486ee6",
   "metadata": {},
   "source": [
    "now it's time to make some styling using CSS"
   ]
  },
  {
   "cell_type": "code",
   "execution_count": 4,
   "id": "38e8afeb-274c-4c62-99a7-6200fc9c179d",
   "metadata": {
    "tags": []
   },
   "outputs": [
    {
     "data": {
      "text/html": [
       "<style>\n",
       "button {\n",
       "    background-color: yellow;\n",
       "    border-radius: 10px;\n",
       "    }\n",
       "</style>"
      ],
      "text/plain": [
       "<IPython.core.display.HTML object>"
      ]
     },
     "execution_count": 4,
     "metadata": {},
     "output_type": "execute_result"
    }
   ],
   "source": [
    "from IPython.display import HTML\n",
    "css_rules = \"\"\"\n",
    "button {\n",
    "    background-color: yellow;\n",
    "    border-radius: 10px;\n",
    "    }\n",
    "\"\"\"\n",
    "HTML('<style>' + css_rules + '</style>')"
   ]
  },
  {
   "cell_type": "markdown",
   "id": "cb19480f-b3c6-44be-968c-06edf944d42f",
   "metadata": {},
   "source": [
    "You can also load CSS from a file.  \n",
    "And you can add extra CSS without overwriting the previous CSS import."
   ]
  },
  {
   "cell_type": "code",
   "execution_count": 5,
   "id": "c4a644e0-1dbe-4f50-9bb5-5a54f1fedbaf",
   "metadata": {
    "tags": []
   },
   "outputs": [
    {
     "data": {
      "text/html": [
       "<style>button {\n",
       "    color: orange;\n",
       "    border-color: orange;\n",
       "    font-weight: bold;\n",
       "    border-width: 2.5px;\n",
       "\n",
       "}</style>"
      ],
      "text/plain": [
       "<IPython.core.display.HTML object>"
      ]
     },
     "execution_count": 5,
     "metadata": {},
     "output_type": "execute_result"
    }
   ],
   "source": [
    "from IPython.display import HTML\n",
    "from pathlib import Path\n",
    "css_rules = Path('styles_orange.css').read_text()\n",
    "HTML('<style>' + css_rules + '</style>')"
   ]
  },
  {
   "cell_type": "markdown",
   "id": "f571eadd-1a94-4ffe-af43-1c5ef1ec2498",
   "metadata": {
    "tags": []
   },
   "source": [
    "Note: When you clear the output of the previous cell, this CSS style will be removed from the notebook."
   ]
  },
  {
   "cell_type": "markdown",
   "id": "d97069dc-869d-4d63-95c1-38e7535a0ac5",
   "metadata": {},
   "source": [
    "Next, we want to add parameters to the widget.  \n",
    "First naive approach: Using f-strings.\n",
    "That works, but is bad for two reasons:\n",
    "1. curly brackets from f-strings will colide with the curly brackets from css. \n",
    "Using curly brackets in an f-string as a normal character can be done by doubling them like this : `{`to `{{`.\n",
    "2. It is not possible to pass this parameter into the `MyExampleWidget` class, as it does not have an init function."
   ]
  },
  {
   "cell_type": "code",
   "execution_count": 6,
   "id": "6fdda6ec-d6df-42bb-964c-66b686596ff2",
   "metadata": {
    "tags": []
   },
   "outputs": [
    {
     "data": {
      "application/vnd.jupyter.widget-view+json": {
       "model_id": "3fb6f3c1ed194a38be5a794b088619c4",
       "version_major": 2,
       "version_minor": 0
      },
      "text/plain": [
       "MyExampleWidget()"
      ]
     },
     "execution_count": 6,
     "metadata": {},
     "output_type": "execute_result"
    }
   ],
   "source": [
    "import ipyreact\n",
    "\n",
    "# ❌❌❌  WARNING: THIS CODEBLOCK IS NOT GOOD PRACTICE ❌❌❌ \n",
    "class MyExampleWidget(ipyreact.ReactWidget):\n",
    "    my_message = \"Hello World\"\n",
    "    _esm = f\"\"\"\n",
    "    import * as React from \"react\";\n",
    "\n",
    "    export default function Square() {{\n",
    "        return <button> {my_message} </button> \n",
    "        }};\"\"\"\n",
    "MyExampleWidget()"
   ]
  },
  {
   "cell_type": "markdown",
   "id": "944363e3-92b1-4ee6-8e16-1a2f6879fefb",
   "metadata": {},
   "source": [
    "Instead, we can use traitlets.  \n",
    "traitlets are variables that can be used both in javascript and python."
   ]
  },
  {
   "cell_type": "code",
   "execution_count": null,
   "id": "0e27dc18-82f2-4598-9117-9e0cfec49f99",
   "metadata": {
    "tags": []
   },
   "outputs": [],
   "source": [
    "import ipyreact\n",
    "import traitlets\n",
    "\n",
    "# ⭐⭐⭐  This is good practice ⭐⭐⭐ \n",
    "class MyExampleWidget(ipyreact.ReactWidget):\n",
    "    my_message = \"Hello World\"\n",
    "    _esm = f\"\"\"\n",
    "    import * as React from \"react\";\n",
    "\n",
    "    export default function Square() {\n",
    "        return <button> {my_message} </button> \n",
    "        };\"\"\"\n",
    "MyExampleWidget()"
   ]
  },
  {
   "cell_type": "code",
   "execution_count": null,
   "id": "e2fb6dcb-4477-4ff5-a7d0-5e0f209d83cf",
   "metadata": {},
   "outputs": [],
   "source": []
  }
 ],
 "metadata": {
  "kernelspec": {
   "display_name": "Python 3 (ipykernel)",
   "language": "python",
   "name": "python3"
  },
  "language_info": {
   "codemirror_mode": {
    "name": "ipython",
    "version": 3
   },
   "file_extension": ".py",
   "mimetype": "text/x-python",
   "name": "python",
   "nbconvert_exporter": "python",
   "pygments_lexer": "ipython3",
   "version": "3.11.3"
  }
 },
 "nbformat": 4,
 "nbformat_minor": 5
}
