{
 "cells": [
  {
   "cell_type": "markdown",
   "id": "d8ec9a76-0819-463d-8955-55789ee36400",
   "metadata": {},
   "source": [
    "# Ipyreact Tutorial"
   ]
  },
  {
   "cell_type": "markdown",
   "id": "083f2dc7-c0ec-482f-a720-aa2896ad193e",
   "metadata": {
    "tags": []
   },
   "source": [
    "Welcome to this ipyreact walkthrough.\n",
    "\n",
    "# Here you will learn:\n",
    "* How to use the %react cell magic\n",
    "* How to write a widegt\n",
    "* How to load css for your widget\n",
    "* how to add parameters to your widgets\n",
    "* how to interact with these parameters"
   ]
  },
  {
   "cell_type": "markdown",
   "id": "06cb067d-0aea-4851-827d-d07f22466693",
   "metadata": {},
   "source": [
    "The tuturial will be based on a very simple react button to show all the ipyreact features.  \n",
    "First, we will use the `%react` magic from ipyreact.  \n",
    "The following line registers the cellmagic:"
   ]
  },
  {
   "cell_type": "code",
   "execution_count": 1,
   "id": "2bbfd776-52a4-4ec5-b340-bd543423ea92",
   "metadata": {
    "tags": []
   },
   "outputs": [],
   "source": [
    "%load_ext ipyreact"
   ]
  },
  {
   "cell_type": "code",
   "execution_count": 2,
   "id": "c70f7253-98d5-4131-bf6b-1ac3433e2985",
   "metadata": {
    "tags": []
   },
   "outputs": [
    {
     "data": {
      "application/vnd.jupyter.widget-view+json": {
       "model_id": "584865be0fe34385a73623958e74e4a6",
       "version_major": 2,
       "version_minor": 0
      },
      "text/plain": [
       "Widget()"
      ]
     },
     "metadata": {},
     "output_type": "display_data"
    }
   ],
   "source": [
    "%%react\n",
    "\n",
    "import * as React from \"react\";\n",
    "\n",
    "export default function Square() {\n",
    "  return (<button> X </button>);\n",
    "  }"
   ]
  },
  {
   "cell_type": "markdown",
   "id": "4b51d34f-8abc-4b7b-936e-6d582a1b64fe",
   "metadata": {},
   "source": [
    "That worked! Next, we convert this into a widget.\n",
    "For that, we need the code in a _ems string inside a class that inherits from `ipyreact.ReactWidget`"
   ]
  },
  {
   "cell_type": "code",
   "execution_count": 3,
   "id": "7c70385c-638e-482b-80e1-6f27614da867",
   "metadata": {
    "tags": []
   },
   "outputs": [
    {
     "data": {
      "application/vnd.jupyter.widget-view+json": {
       "model_id": "e0f0ef6c231c40309d833169b72075a3",
       "version_major": 2,
       "version_minor": 0
      },
      "text/plain": [
       "MyExampleWidget()"
      ]
     },
     "execution_count": 3,
     "metadata": {},
     "output_type": "execute_result"
    }
   ],
   "source": [
    "import ipyreact\n",
    "\n",
    "class MyExampleWidget(ipyreact.ReactWidget):\n",
    "    _esm = \"\"\"\n",
    "    import * as React from \"react\";\n",
    "\n",
    "    export default function Square() {\n",
    "        return <button> X </button> \n",
    "        };\"\"\"\n",
    "MyExampleWidget()"
   ]
  },
  {
   "cell_type": "markdown",
   "id": "35f22aef-50c2-4772-b9fa-44f5fb486ee6",
   "metadata": {},
   "source": [
    "now it's time to make some styling using CSS"
   ]
  },
  {
   "cell_type": "code",
   "execution_count": 4,
   "id": "38e8afeb-274c-4c62-99a7-6200fc9c179d",
   "metadata": {
    "tags": []
   },
   "outputs": [
    {
     "data": {
      "text/html": [
       "<style>\n",
       "button {\n",
       "    background-color: yellow;\n",
       "    border-radius: 10px;\n",
       "    }\n",
       "</style>"
      ],
      "text/plain": [
       "<IPython.core.display.HTML object>"
      ]
     },
     "execution_count": 4,
     "metadata": {},
     "output_type": "execute_result"
    }
   ],
   "source": [
    "from IPython.display import HTML\n",
    "css_rules = \"\"\"\n",
    "button {\n",
    "    background-color: yellow;\n",
    "    border-radius: 10px;\n",
    "    }\n",
    "\"\"\"\n",
    "HTML('<style>' + css_rules + '</style>')"
   ]
  },
  {
   "cell_type": "markdown",
   "id": "cb19480f-b3c6-44be-968c-06edf944d42f",
   "metadata": {},
   "source": [
    "You can also load CSS from a file.  \n",
    "And you can add extra CSS without overwriting the previous CSS import."
   ]
  },
  {
   "cell_type": "code",
   "execution_count": 5,
   "id": "c4a644e0-1dbe-4f50-9bb5-5a54f1fedbaf",
   "metadata": {
    "tags": []
   },
   "outputs": [
    {
     "data": {
      "text/html": [
       "<style>button {\n",
       "    color: orange;\n",
       "    border-color: orange;\n",
       "    font-weight: bold;\n",
       "    border-width: 2.5px;\n",
       "\n",
       "}</style>"
      ],
      "text/plain": [
       "<IPython.core.display.HTML object>"
      ]
     },
     "execution_count": 5,
     "metadata": {},
     "output_type": "execute_result"
    }
   ],
   "source": [
    "from IPython.display import HTML\n",
    "from pathlib import Path\n",
    "css_rules = Path('styles_orange.css').read_text()\n",
    "HTML('<style>' + css_rules + '</style>')"
   ]
  },
  {
   "cell_type": "markdown",
   "id": "f571eadd-1a94-4ffe-af43-1c5ef1ec2498",
   "metadata": {
    "tags": []
   },
   "source": [
    "Note: When you clear the output of the previous cell, this CSS style will be removed from the notebook."
   ]
  },
  {
   "cell_type": "markdown",
   "id": "d97069dc-869d-4d63-95c1-38e7535a0ac5",
   "metadata": {},
   "source": [
    "Next, we want to add parameters to the widget.  \n",
    "First naive approach: Using f-strings.\n",
    "That works, but is bad for two reasons:\n",
    "1. curly brackets from f-strings will colide with the curly brackets from css. \n",
    "Using curly brackets in an f-string as a normal character can be done by doubling them like this : `{`to `{{`.\n",
    "2. It is not possible to pass this parameter into the `MyExampleWidget` class, as it does not have an init function."
   ]
  },
  {
   "cell_type": "code",
   "execution_count": 6,
   "id": "6fdda6ec-d6df-42bb-964c-66b686596ff2",
   "metadata": {
    "tags": []
   },
   "outputs": [
    {
     "data": {
      "application/vnd.jupyter.widget-view+json": {
       "model_id": "b4c72d7d777f4ad3b3ab25b826a740e5",
       "version_major": 2,
       "version_minor": 0
      },
      "text/plain": [
       "MyExampleWidget()"
      ]
     },
     "execution_count": 6,
     "metadata": {},
     "output_type": "execute_result"
    }
   ],
   "source": [
    "import ipyreact\n",
    "\n",
    "# ❌❌❌  WARNING: THIS CODEBLOCK IS NOT GOOD PRACTICE ❌❌❌ \n",
    "class MyExampleWidget(ipyreact.ReactWidget):\n",
    "    my_message = \"Hello World\"\n",
    "    _esm = f\"\"\"\n",
    "    import * as React from \"react\";\n",
    "\n",
    "    export default function Square() {{\n",
    "        return <button> {my_message} </button> \n",
    "        }};\"\"\"\n",
    "MyExampleWidget()"
   ]
  },
  {
   "cell_type": "markdown",
   "id": "944363e3-92b1-4ee6-8e16-1a2f6879fefb",
   "metadata": {},
   "source": [
    "Instead, we can use traitlets.  \n",
    "traitlets are variables that can be used both in javascript and python.  \n",
    "Note that it has to be initilized at `Square({my_message})`"
   ]
  },
  {
   "cell_type": "code",
   "execution_count": 7,
   "id": "0e27dc18-82f2-4598-9117-9e0cfec49f99",
   "metadata": {
    "tags": []
   },
   "outputs": [
    {
     "data": {
      "application/vnd.jupyter.widget-view+json": {
       "model_id": "f848ae7b371649d29a44c0fbe19af940",
       "version_major": 2,
       "version_minor": 0
      },
      "text/plain": [
       "MyExampleWidget()"
      ]
     },
     "execution_count": 7,
     "metadata": {},
     "output_type": "execute_result"
    }
   ],
   "source": [
    "import ipyreact\n",
    "import traitlets\n",
    "\n",
    "# ⭐⭐⭐  This is good practice ⭐⭐⭐ \n",
    "class MyExampleWidget(ipyreact.ReactWidget):\n",
    "    my_message = traitlets.Unicode(\"Hi There\").tag(sync=True)\n",
    "    _esm = \"\"\"\n",
    "    import * as React from \"react\";\n",
    "\n",
    "    export default function Square({my_message}) {\n",
    "        return <button> {my_message} </button> \n",
    "        };\"\"\"\n",
    "MyExampleWidget()"
   ]
  },
  {
   "cell_type": "code",
   "execution_count": 8,
   "id": "e2fb6dcb-4477-4ff5-a7d0-5e0f209d83cf",
   "metadata": {
    "tags": []
   },
   "outputs": [
    {
     "data": {
      "application/vnd.jupyter.widget-view+json": {
       "model_id": "faa7772749074f19aa3946a2143970f7",
       "version_major": 2,
       "version_minor": 0
      },
      "text/plain": [
       "MyExampleWidget(my_message='Super Button')"
      ]
     },
     "execution_count": 8,
     "metadata": {},
     "output_type": "execute_result"
    }
   ],
   "source": [
    "# we can use this traitlets also as parameters\n",
    "MyExampleWidget(my_message = \"Super Button\")"
   ]
  },
  {
   "cell_type": "markdown",
   "id": "12f3691c-6d99-40ac-b80d-1db9b6f5d78c",
   "metadata": {},
   "source": [
    "Now comes an example of a button that changes the postion using traitlets"
   ]
  },
  {
   "cell_type": "code",
   "execution_count": 11,
   "id": "56c9e4d7-03fc-4a30-81f8-83d63bab170a",
   "metadata": {
    "tags": []
   },
   "outputs": [
    {
     "data": {
      "application/vnd.jupyter.widget-view+json": {
       "model_id": "b9ea3fb479214c5286b1b6e57388e25b",
       "version_major": 2,
       "version_minor": 0
      },
      "text/plain": [
       "MyExampleWidget()"
      ]
     },
     "execution_count": 11,
     "metadata": {},
     "output_type": "execute_result"
    }
   ],
   "source": [
    "import ipyreact\n",
    "import traitlets\n",
    "\n",
    "# ⭐⭐⭐  This is good practice ⭐⭐⭐ \n",
    "class MyExampleWidget(ipyreact.ReactWidget):\n",
    "    my_position = traitlets.Unicode(\"My Postition\").tag(sync=True)\n",
    "    _esm = \"\"\"\n",
    "    import * as React from \"react\";\n",
    "\n",
    "    export default function Square({my_position}) {\n",
    "        return <button> {my_position} </button> \n",
    "        };\"\"\"\n",
    "MyExampleWidget()"
   ]
  },
  {
   "cell_type": "code",
   "execution_count": null,
   "id": "4dba603f-8052-4d8d-845d-d28029e17c35",
   "metadata": {},
   "outputs": [],
   "source": []
  }
 ],
 "metadata": {
  "kernelspec": {
   "display_name": "Python 3 (ipykernel)",
   "language": "python",
   "name": "python3"
  },
  "language_info": {
   "codemirror_mode": {
    "name": "ipython",
    "version": 3
   },
   "file_extension": ".py",
   "mimetype": "text/x-python",
   "name": "python",
   "nbconvert_exporter": "python",
   "pygments_lexer": "ipython3",
   "version": "3.11.3"
  }
 },
 "nbformat": 4,
 "nbformat_minor": 5
}
