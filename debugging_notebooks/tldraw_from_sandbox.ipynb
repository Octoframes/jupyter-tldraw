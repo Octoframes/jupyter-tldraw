{
 "cells": [
  {
   "cell_type": "code",
   "execution_count": 1,
   "id": "222e7fa9",
   "metadata": {
    "tags": []
   },
   "outputs": [],
   "source": [
    "%load_ext ipyreact"
   ]
  },
  {
   "cell_type": "markdown",
   "id": "5459bd89",
   "metadata": {},
   "source": [
    "from https://codesandbox.io/s/n539u?file=/src/App.tsx\n",
    "\n",
    "It works without the css, but then the menu at the top right is a bit cropped\n",
    "\n",
    "css in gist copied from https://codesandbox.io/s/n539u?file=/src/styles.css"
   ]
  },
  {
   "cell_type": "code",
   "execution_count": 2,
   "id": "458adb35",
   "metadata": {},
   "outputs": [
    {
     "data": {
      "text/html": [
       "<link rel=\"stylesheet\" href=\"styles.css\">\n"
      ],
      "text/plain": [
       "<IPython.core.display.HTML object>"
      ]
     },
     "metadata": {},
     "output_type": "display_data"
    }
   ],
   "source": [
    "%%html\n",
    "<link rel=\"stylesheet\" href=\"styles.css\">"
   ]
  },
  {
   "cell_type": "markdown",
   "id": "382e28da",
   "metadata": {},
   "source": [
    "this is the react magic form"
   ]
  },
  {
   "cell_type": "code",
   "execution_count": 3,
   "id": "f512ed56",
   "metadata": {
    "tags": []
   },
   "outputs": [
    {
     "data": {
      "application/vnd.jupyter.widget-view+json": {
       "model_id": "2a5609d5007a453ba321d225cca59fa6",
       "version_major": 2,
       "version_minor": 0
      },
      "text/plain": [
       "Widget()"
      ]
     },
     "metadata": {},
     "output_type": "display_data"
    }
   ],
   "source": [
    "%%react\n",
    "\n",
    "import * as React from \"react\";\n",
    "import { Tldraw, TldrawApp } from \"@tldraw/tldraw\";\n",
    "\n",
    "export default function App() {\n",
    "  const persistenceId = \"tldraw-example\";\n",
    "\n",
    "  const handleMount = (app: TldrawApp) => {\n",
    "    app.selectAll()\n",
    "  };\n",
    "\n",
    "  return (\n",
    "    <div\n",
    "      style={{\n",
    "        position: \"relative\",\n",
    "        width: \"800px\",\n",
    "        height: \"350px\"\n",
    "      }}\n",
    "    >\n",
    "      <Tldraw id={persistenceId} onMount={handleMount} />\n",
    "    </div>\n",
    "  );\n",
    "}"
   ]
  },
  {
   "cell_type": "markdown",
   "id": "7b72c6b5",
   "metadata": {},
   "source": [
    "and this is the widget form"
   ]
  },
  {
   "cell_type": "code",
   "execution_count": 1,
   "id": "9298c902",
   "metadata": {
    "tags": []
   },
   "outputs": [
    {
     "data": {
      "application/vnd.jupyter.widget-view+json": {
       "model_id": "0ccfad734d1b46eba14fae3036bd40d3",
       "version_major": 2,
       "version_minor": 0
      },
      "text/plain": [
       "Tldraw()"
      ]
     },
     "execution_count": 1,
     "metadata": {},
     "output_type": "execute_result"
    }
   ],
   "source": [
    "import ipyreact\n",
    "\n",
    "from IPython.display import HTML\n",
    "from pathlib import Path\n",
    "\n",
    "# css_rules = Path('styles.css').read_text()\n",
    "# HTML('<style>' + css_rules + '</style>')\n",
    "\n",
    "\n",
    "class Tldraw(ipyreact.ReactWidget):\n",
    "    _esm = \"\"\"\n",
    "    import * as React from \"react\";\n",
    "    import { Tldraw, TldrawApp } from \"@tldraw/tldraw\";\n",
    "\n",
    "    export default function App() {\n",
    "    const persistenceId = \"tldraw-example1\";\n",
    "\n",
    "    const handleMount = (app: TldrawApp) => {\n",
    "        // You can use the app API here! e.g. app.selectAll()\n",
    "    };\n",
    "\n",
    "    return (\n",
    "        <div\n",
    "        style={{\n",
    "            position: \"relative\",\n",
    "            width: \"800px\",\n",
    "            height: \"350px\"\n",
    "        }}\n",
    "        >\n",
    "        <Tldraw id={persistenceId} onMount={handleMount} />\n",
    "        </div>\n",
    "    );\n",
    "    }\"\"\"\n",
    "Tldraw()"
   ]
  },
  {
   "cell_type": "code",
   "execution_count": null,
   "id": "7ab5501c",
   "metadata": {},
   "outputs": [],
   "source": []
  }
 ],
 "metadata": {
  "kernelspec": {
   "display_name": "Python 3 (ipykernel)",
   "language": "python",
   "name": "python3"
  },
  "language_info": {
   "codemirror_mode": {
    "name": "ipython",
    "version": 3
   },
   "file_extension": ".py",
   "mimetype": "text/x-python",
   "name": "python",
   "nbconvert_exporter": "python",
   "pygments_lexer": "ipython3",
   "version": "3.11.3"
  }
 },
 "nbformat": 4,
 "nbformat_minor": 5
}
