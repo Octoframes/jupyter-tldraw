{
 "cells": [
  {
   "cell_type": "code",
   "execution_count": 1,
   "id": "8f099b28-dcde-40ef-be26-84f442823ac2",
   "metadata": {
    "tags": []
   },
   "outputs": [],
   "source": [
    "%load_ext ipyreact"
   ]
  },
  {
   "cell_type": "markdown",
   "id": "d0f69ebd",
   "metadata": {},
   "source": [
    "from https://codesandbox.io/s/n539u?file=/src/App.tsx\n",
    "\n",
    "It works without the css, but then the menu at the top right is a bit cropped\n",
    "\n",
    "css in gist copied from https://codesandbox.io/s/n539u?file=/src/styles.css"
   ]
  },
  {
   "cell_type": "code",
   "execution_count": 2,
   "id": "8a6b68b5",
   "metadata": {},
   "outputs": [
    {
     "data": {
      "text/html": [
       "<link rel=\"stylesheet\" href=\"styles.css\">\n"
      ],
      "text/plain": [
       "<IPython.core.display.HTML object>"
      ]
     },
     "metadata": {},
     "output_type": "display_data"
    }
   ],
   "source": [
    "%%html\n",
    "<link rel=\"stylesheet\" href=\"styles.css\">"
   ]
  },
  {
   "attachments": {},
   "cell_type": "markdown",
   "id": "f8792af2",
   "metadata": {},
   "source": [
    "this is the react magic form"
   ]
  },
  {
   "cell_type": "code",
   "execution_count": 3,
   "id": "e84b903e-1505-4696-baba-59f937f0094f",
   "metadata": {
    "tags": []
   },
   "outputs": [
    {
     "data": {
      "application/vnd.jupyter.widget-view+json": {
       "model_id": "a789ced3a7b94a31abf697e3fd5a655c",
       "version_major": 2,
       "version_minor": 0
      },
      "text/plain": [
       "Widget()"
      ]
     },
     "metadata": {},
     "output_type": "display_data"
    }
   ],
   "source": [
    "%%react\n",
    "\n",
    "import * as React from \"react\";\n",
    "import { Tldraw, TldrawApp } from \"@tldraw/tldraw\";\n",
    "\n",
    "export default function App() {\n",
    "  const persistenceId = \"tldraw-example\";\n",
    "\n",
    "  const handleMount = (app: TldrawApp) => {\n",
    "    app.selectAll()\n",
    "  };\n",
    "\n",
    "  return (\n",
    "    <div\n",
    "      style={{\n",
    "        position: \"relative\",\n",
    "        width: \"800px\",\n",
    "        height: \"350px\"\n",
    "      }}\n",
    "    >\n",
    "      <Tldraw id={persistenceId} onMount={handleMount} />\n",
    "    </div>\n",
    "  );\n",
    "}"
   ]
  },
  {
   "attachments": {},
   "cell_type": "markdown",
   "id": "d60a8ad1",
   "metadata": {},
   "source": [
    "and this is the widget form"
   ]
  },
  {
   "cell_type": "code",
   "execution_count": 4,
   "id": "9eb5ab7c",
   "metadata": {
    "tags": []
   },
   "outputs": [
    {
     "data": {
      "application/vnd.jupyter.widget-view+json": {
       "model_id": "c1b04a4e9dd441d8a886f4150266ea18",
       "version_major": 2,
       "version_minor": 0
      },
      "text/plain": [
       "Tldraw()"
      ]
     },
     "execution_count": 4,
     "metadata": {},
     "output_type": "execute_result"
    }
   ],
   "source": [
    "import ipyreact\n",
    "\n",
    "class Tldraw(ipyreact.ReactWidget):\n",
    "    _esm = \"\"\"\n",
    "    import * as React from \"react\";\n",
    "    import { Tldraw, TldrawApp } from \"@tldraw/tldraw\";\n",
    "\n",
    "    export default function App() {\n",
    "    const persistenceId = \"tldraw-example1\";\n",
    "\n",
    "    const handleMount = (app: TldrawApp) => {\n",
    "        // You can use the app API here! e.g. app.selectAll()\n",
    "    };\n",
    "\n",
    "    return (\n",
    "        <div\n",
    "        style={{\n",
    "            position: \"relative\",\n",
    "            width: \"800px\",\n",
    "            height: \"350px\"\n",
    "        }}\n",
    "        >\n",
    "        <Tldraw id={persistenceId} onMount={handleMount} />\n",
    "        </div>\n",
    "    );\n",
    "    }\"\"\"\n",
    "Tldraw()"
   ]
  },
  {
   "cell_type": "code",
   "execution_count": null,
   "id": "b5fec71c",
   "metadata": {},
   "outputs": [],
   "source": []
  }
 ],
 "metadata": {
  "kernelspec": {
   "display_name": "Python 3 (ipykernel)",
   "language": "python",
   "name": "python3"
  },
  "language_info": {
   "codemirror_mode": {
    "name": "ipython",
    "version": 3
   },
   "file_extension": ".py",
   "mimetype": "text/x-python",
   "name": "python",
   "nbconvert_exporter": "python",
   "pygments_lexer": "ipython3",
   "version": "3.11.3"
  }
 },
 "nbformat": 4,
 "nbformat_minor": 5
}
