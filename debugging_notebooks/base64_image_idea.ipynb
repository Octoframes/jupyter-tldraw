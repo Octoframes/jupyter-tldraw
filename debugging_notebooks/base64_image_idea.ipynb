{
 "cells": [
  {
   "cell_type": "code",
   "execution_count": 11,
   "metadata": {},
   "outputs": [
    {
     "data": {
      "text/plain": [
       "<matplotlib.image.AxesImage at 0x1204efa10>"
      ]
     },
     "execution_count": 11,
     "metadata": {},
     "output_type": "execute_result"
    },
    {
     "data": {
      "image/png": "[encoded data removed]",
      "text/plain": [
       "<Figure size 640x480 with 1 Axes>"
      ]
     },
     "metadata": {},
     "output_type": "display_data"
    }
   ],
   "source": [
    "import base64\n",
    "from io import BytesIO\n",
    "import matplotlib.pyplot as plt\n",
    "from PIL import Image\n",
    "\n",
    "# Base64 encoded image string\n",
    "base64_string = \"data:image/png;base64,iVBORw0KGgoAAAANSUhEUgAAAAgAAAAIAQMAAAD+wSzIAAAABlBMVEX///+/v7+jQ3Y5AAAADklEQVQI12P4AIX8EAgALgAD/aNpbtEAAAAASUVORK5CYII=\"\n",
    "\n",
    "# Decode the base64 string\n",
    "img_data = base64.b64decode(base64_string.split(\",\")[1])\n",
    "\n",
    "# Create a PIL image object\n",
    "img = Image.open(BytesIO(img_data))\n",
    "\n",
    "# Convert PIL image object to numpy array\n",
    "img_array = plt.imread(BytesIO(img_data), format='PNG')\n",
    "\n",
    "# Display the image using Matplotlib\n",
    "plt.imshow(img_array)"
   ]
  },
  {
   "attachments": {},
   "cell_type": "markdown",
   "metadata": {},
   "source": [
    "this does not yet work:"
   ]
  },
  {
   "cell_type": "code",
   "execution_count": 15,
   "metadata": {},
   "outputs": [
    {
     "data": {
      "application/vnd.jupyter.widget-view+json": {
       "model_id": "53699df895904dfe811fd5beb1c2437f",
       "version_major": 2,
       "version_minor": 0
      },
      "text/plain": [
       "TldrawWidget()"
      ]
     },
     "execution_count": 15,
     "metadata": {},
     "output_type": "execute_result"
    }
   ],
   "source": [
    "import ipyreact\n",
    "\n",
    "global  my_x \n",
    "global  my_y \n",
    "my_x = 500\n",
    "my_y = 50\n",
    "\n",
    "class TldrawWidget(ipyreact.ReactWidget):\n",
    "    _esm = \"\"\"\n",
    "\n",
    "    import { ColorStyle, TDShapeType, Tldraw, TldrawApp } from '@tldraw/tldraw'\n",
    "    import * as React from 'react'\n",
    "\n",
    "    declare const window: Window & { app: TldrawApp }\n",
    "\n",
    "    export default function Api() {\n",
    "    const rTldrawApp = React.useRef<TldrawApp>()\n",
    "\n",
    "    const handleMount = React.useCallback((app: TldrawApp) => {\n",
    "        rTldrawApp.current = app\n",
    "\n",
    "        window.app = app\n",
    "\n",
    "        app\n",
    "        .createShapes({\n",
    "            id: 'rect1',\n",
    "            type: TDShapeType.Image,\n",
    "            point: [100, 100],\n",
    "            size: [200, 200],\n",
    "            image: 'data:image/png;base64,iVBORw0KGgoAAAANSUhEUgAAAAgAAAAIAQMAAAD+wSzIAAAABlBMVEX///+/v7+jQ3Y5AAAADklEQVQI12P4AIX8EAgALgAD/aNpbtEAAAAASUVORK5CYII='\n",
    "        })\n",
    "    })\n",
    "\n",
    "    return (\n",
    "        <div\n",
    "        style={{\n",
    "            position: \"relative\",\n",
    "            width: \"800px\",\n",
    "            height: \"350px\"\n",
    "        }}\n",
    "        >\n",
    "        <Tldraw onMount={handleMount} />\n",
    "        </div>\n",
    "    )\n",
    "    }\"\"\"\n",
    "\n",
    "\n",
    "TldrawWidget()"
   ]
  },
  {
   "cell_type": "code",
   "execution_count": null,
   "metadata": {},
   "outputs": [],
   "source": []
  }
 ],
 "metadata": {
  "kernelspec": {
   "display_name": ".venv",
   "language": "python",
   "name": "python3"
  },
  "language_info": {
   "codemirror_mode": {
    "name": "ipython",
    "version": 3
   },
   "file_extension": ".py",
   "mimetype": "text/x-python",
   "name": "python",
   "nbconvert_exporter": "python",
   "pygments_lexer": "ipython3",
   "version": "3.11.3"
  },
  "orig_nbformat": 4
 },
 "nbformat": 4,
 "nbformat_minor": 2
}
