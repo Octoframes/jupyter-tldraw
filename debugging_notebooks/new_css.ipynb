{
 "cells": [
  {
   "cell_type": "markdown",
   "id": "9060ba05-29b6-46e2-844b-6fbbe4c9e43c",
   "metadata": {},
   "source": [
    "new css"
   ]
  },
  {
   "cell_type": "code",
   "execution_count": 1,
   "id": "87d8290c",
   "metadata": {
    "tags": []
   },
   "outputs": [],
   "source": [
    "%load_ext ipyreact"
   ]
  },
  {
   "cell_type": "code",
   "execution_count": 2,
   "id": "1bf9ce82-fcb3-4e62-b7ae-15213133b421",
   "metadata": {
    "tags": []
   },
   "outputs": [],
   "source": [
    "import ipyreact\n",
    "\n",
    "from IPython.display import HTML\n",
    "from pathlib import Path\n",
    "css_rules = \"\"\"\n",
    "    .jp-OutputArea-output {\n",
    "      box-sizing: border-box;\n",
    "    }\n",
    "\n",
    "    .tl-container {\n",
    "      overflow: hidden;\n",
    "      position: fixed;\n",
    "      overscroll-behavior: none;\n",
    "      padding: 0px;\n",
    "      margin: 0px;\n",
    "      font-family: sans-serif;\n",
    "    }\n",
    "\"\"\"\n",
    "HTML('<style>' + css_rules + '</style>');"
   ]
  },
  {
   "cell_type": "code",
   "execution_count": 7,
   "id": "d66383bc-29b2-447a-85b5-a9dbfd8395b7",
   "metadata": {
    "tags": []
   },
   "outputs": [
    {
     "data": {
      "application/vnd.jupyter.widget-view+json": {
       "model_id": "60112a75966946898762a64ff537d6ce",
       "version_major": 2,
       "version_minor": 0
      },
      "text/plain": [
       "Widget()"
      ]
     },
     "metadata": {},
     "output_type": "display_data"
    }
   ],
   "source": [
    "%%react\n",
    "\n",
    "import * as React from \"react\";\n",
    "import { Tldraw } from \"@tldraw/tldraw\";\n",
    "\n",
    "export default function App() {\n",
    "  return (\n",
    "    <div\n",
    "      style={{\n",
    "        position: \"relative\",\n",
    "        width: \"800px\",\n",
    "        height: \"300px\"\n",
    "      }}\n",
    "    >\n",
    "      <Tldraw/>\n",
    "    </div>\n",
    "  );\n",
    "}"
   ]
  },
  {
   "cell_type": "code",
   "execution_count": null,
   "id": "95c60080",
   "metadata": {
    "tags": []
   },
   "outputs": [],
   "source": []
  },
  {
   "cell_type": "code",
   "execution_count": null,
   "id": "1b6963bf",
   "metadata": {},
   "outputs": [],
   "source": []
  }
 ],
 "metadata": {
  "kernelspec": {
   "display_name": "Python 3 (ipykernel)",
   "language": "python",
   "name": "python3"
  },
  "language_info": {
   "codemirror_mode": {
    "name": "ipython",
    "version": 3
   },
   "file_extension": ".py",
   "mimetype": "text/x-python",
   "name": "python",
   "nbconvert_exporter": "python",
   "pygments_lexer": "ipython3",
   "version": "3.11.3"
  }
 },
 "nbformat": 4,
 "nbformat_minor": 5
}
