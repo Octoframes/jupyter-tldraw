{
 "cells": [
  {
   "cell_type": "code",
   "execution_count": 3,
   "metadata": {},
   "outputs": [
    {
     "data": {
      "application/vnd.jupyter.widget-view+json": {
       "model_id": "97a6a416637c4b338121b1b7a0814eab",
       "version_major": 2,
       "version_minor": 0
      },
      "text/plain": [
       "Tldraw()"
      ]
     },
     "execution_count": 3,
     "metadata": {},
     "output_type": "execute_result"
    }
   ],
   "source": [
    "import ipyreact\n",
    "\n",
    "class Tldraw(ipyreact.ReactWidget):\n",
    "    # def __init__(self, x, y): # <- this does not work yet\n",
    "    #     self.x = x\n",
    "    #     self.y = y\n",
    "\n",
    "    my_x = 10\n",
    "    my_y = 10\n",
    "    _esm = f\"\"\"\n",
    "\n",
    "    import {{ ColorStyle, TDShapeType, Tldraw, TldrawApp }} from '@tldraw/tldraw'\n",
    "    import * as React from 'react'\n",
    "\n",
    "    declare const window: Window & {{ app: TldrawApp }}\n",
    "\n",
    "    export default function Api() {{\n",
    "    const rTldrawApp = React.useRef<TldrawApp>()\n",
    "\n",
    "    const handleMount = React.useCallback((app: TldrawApp) => {{\n",
    "        rTldrawApp.current = app\n",
    "\n",
    "        window.app = app\n",
    "\n",
    "        app\n",
    "        .createShapes({{\n",
    "            id: 'rect1',\n",
    "            type: TDShapeType.Ellipse,\n",
    "            point: [{my_x}, {my_y}],\n",
    "            radius: [100, 100],\n",
    "        }})\n",
    "    }})\n",
    "\n",
    "    return (\n",
    "        <div\n",
    "        style={{{{\n",
    "            position: \"relative\",\n",
    "            width: \"800px\",\n",
    "            height: \"350px\"\n",
    "        }}}}\n",
    "        >\n",
    "        <Tldraw onMount={{handleMount}} />\n",
    "        </div>\n",
    "    )\n",
    "    }}\"\"\"\n",
    "\n",
    "Tldraw()\n",
    "# Tldraw(x = 10 , y = 10)  # <- this does not work yet"
   ]
  },
  {
   "cell_type": "code",
   "execution_count": null,
   "metadata": {},
   "outputs": [],
   "source": []
  }
 ],
 "metadata": {
  "kernelspec": {
   "display_name": ".venv",
   "language": "python",
   "name": "python3"
  },
  "language_info": {
   "codemirror_mode": {
    "name": "ipython",
    "version": 3
   },
   "file_extension": ".py",
   "mimetype": "text/x-python",
   "name": "python",
   "nbconvert_exporter": "python",
   "pygments_lexer": "ipython3",
   "version": "3.11.3"
  },
  "orig_nbformat": 4
 },
 "nbformat": 4,
 "nbformat_minor": 2
}
