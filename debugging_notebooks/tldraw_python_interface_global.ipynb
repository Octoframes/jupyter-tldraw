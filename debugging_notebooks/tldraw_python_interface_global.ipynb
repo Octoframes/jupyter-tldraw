{
 "cells": [
  {
   "cell_type": "code",
   "execution_count": 2,
   "metadata": {},
   "outputs": [
    {
     "data": {
      "application/vnd.jupyter.widget-view+json": {
       "model_id": "aa50f5d08a1c4238ac93de52eb7bcf70",
       "version_major": 2,
       "version_minor": 0
      },
      "text/plain": [
       "TldrawWidget()"
      ]
     },
     "execution_count": 2,
     "metadata": {},
     "output_type": "execute_result"
    }
   ],
   "source": [
    "# BE CAREFUL: This _ems string contains double escaped curly braces so that it can be used in a f-string.\n",
    "# THIS IS NOT A GOOD SOLUTION, but it works for now.\n",
    "import ipyreact\n",
    "\n",
    "global  my_x \n",
    "global  my_y \n",
    "my_x = 500\n",
    "my_y = 50\n",
    "\n",
    "class TldrawWidget(ipyreact.ReactWidget):\n",
    "    _esm = f\"\"\"\n",
    "\n",
    "    import {{ ColorStyle, TDShapeType, Tldraw, TldrawApp }} from '@tldraw/tldraw'\n",
    "    import * as React from 'react'\n",
    "\n",
    "    declare const window: Window & {{ app: TldrawApp }}\n",
    "\n",
    "    export default function Api() {{\n",
    "    const rTldrawApp = React.useRef<TldrawApp>()\n",
    "\n",
    "    const handleMount = React.useCallback((app: TldrawApp) => {{\n",
    "        rTldrawApp.current = app\n",
    "\n",
    "        window.app = app\n",
    "\n",
    "        app\n",
    "        .createShapes({{\n",
    "            id: 'rect1',\n",
    "            type: TDShapeType.Ellipse,\n",
    "            point: [{my_x}, {my_y}],\n",
    "            radius: [100, 100],\n",
    "        }})\n",
    "    }})\n",
    "\n",
    "    return (\n",
    "        <div\n",
    "        style={{{{\n",
    "            position: \"relative\",\n",
    "            width: \"800px\",\n",
    "            height: \"350px\"\n",
    "        }}}}\n",
    "        >\n",
    "        <Tldraw onMount={{handleMount}} />\n",
    "        </div>\n",
    "    )\n",
    "    }}\"\"\"\n",
    "\n",
    "\n",
    "TldrawWidget()"
   ]
  },
  {
   "cell_type": "code",
   "execution_count": null,
   "metadata": {},
   "outputs": [],
   "source": []
  }
 ],
 "metadata": {
  "kernelspec": {
   "display_name": "Python 3 (ipykernel)",
   "language": "python",
   "name": "python3"
  },
  "language_info": {
   "codemirror_mode": {
    "name": "ipython",
    "version": 3
   },
   "file_extension": ".py",
   "mimetype": "text/x-python",
   "name": "python",
   "nbconvert_exporter": "python",
   "pygments_lexer": "ipython3",
   "version": "3.11.3"
  }
 },
 "nbformat": 4,
 "nbformat_minor": 4
}
