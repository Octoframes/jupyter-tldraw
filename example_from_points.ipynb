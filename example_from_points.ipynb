{
 "cells": [
  {
   "cell_type": "code",
   "execution_count": null,
   "metadata": {},
   "outputs": [],
   "source": [
    "from traitlets import List, Any\n",
    "import numpy as np\n",
    "import anywidget\n",
    "from pathlib import Path\n",
    "import solara\n",
    "\n",
    "\n",
    "class TldrawFromPoints(anywidget.AnyWidget):\n",
    "    points = List(List(Any())).tag(sync=True)\n",
    "    _esm = Path.cwd() / \"src\" / \"tldraw\" / \"static\" / \"points_from_numpy.js\"\n",
    "\n",
    "\n",
    "float_value = solara.reactive(0)\n",
    "\n",
    "\n",
    "@solara.component\n",
    "def Page():\n",
    "    dispersion = \"high\"  # \"high\", \"low\", \"const\"\n",
    "\n",
    "    def n(wj):\n",
    "        if dispersion == \"high\":\n",
    "            return 1 + wj * 0.1\n",
    "        if dispersion == \"low\":\n",
    "            return 1.1 - wj * 0.01\n",
    "        if dispersion == \"const\":\n",
    "            return 1\n",
    "\n",
    "    c = 1\n",
    "    num_of_waves = 121\n",
    "    start_w = 1\n",
    "    end_w = 7\n",
    "    x = np.linspace(-2, 10, 1001)\n",
    "\n",
    "    def g(x, t):\n",
    "        u1 = 0\n",
    "        for wj in np.linspace(start_w, end_w, num_of_waves):\n",
    "            u1 += np.exp(1j * (wj * n(wj) / c * x - t * wj))\n",
    "        return u1.real\n",
    "\n",
    "    offset = 38\n",
    "    points = np.column_stack((x * 50 + offset, g(x, float_value.value) + 150)).tolist()\n",
    "    points = points[100:]\n",
    "    points[0] = [offset - 40, 0]\n",
    "\n",
    "    with solara.Row():\n",
    "        solara.Button(\"Reset\", on_click=lambda: float_value.set(0))\n",
    "        solara.FloatSlider(\"Time t\", value=float_value, min=0, max=4 * np.pi, step=0.1)\n",
    "    TldrawFromPoints.element(points=points)\n",
    "\n",
    "\n",
    "Page()"
   ]
  },
  {
   "cell_type": "code",
   "execution_count": null,
   "metadata": {},
   "outputs": [],
   "source": [
    "# hosting this webapp-> https://huggingface.co/spaces/kolibril13/tldraw-solara-test"
   ]
  }
 ],
 "metadata": {
  "kernelspec": {
   "display_name": ".venv",
   "language": "python",
   "name": "python3"
  },
  "language_info": {
   "codemirror_mode": {
    "name": "ipython",
    "version": 3
   },
   "file_extension": ".py",
   "mimetype": "text/x-python",
   "name": "python",
   "nbconvert_exporter": "python",
   "pygments_lexer": "ipython3",
   "version": "3.11.4"
  },
  "orig_nbformat": 4
 },
 "nbformat": 4,
 "nbformat_minor": 2
}
