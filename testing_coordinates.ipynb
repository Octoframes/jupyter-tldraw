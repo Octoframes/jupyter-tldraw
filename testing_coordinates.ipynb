{
 "cells": [
  {
   "cell_type": "code",
   "execution_count": null,
   "id": "c69e4477-b0c9-4289-bcb3-2e674f198c31",
   "metadata": {},
   "outputs": [],
   "source": [
    "from tldraw import TldrawWidgetCoordinates\n",
    "\n",
    "\n",
    "t = TldrawWidgetCoordinates(\n",
    "    points_new=[[100, 200], [100, 300], [200, 300], [50, 50], [500, 50]]\n",
    ")\n",
    "t"
   ]
  },
  {
   "cell_type": "code",
   "execution_count": 1,
   "id": "845e4bd6",
   "metadata": {},
   "outputs": [
    {
     "data": {
      "application/vnd.jupyter.widget-view+json": {
       "model_id": "e35744fb227148dda6337d29abd3b85a",
       "version_major": 2,
       "version_minor": 0
      },
      "text/plain": [
       "TldrawWidgetCoordinates(points_new=[[100.0, 95.59788891106302], [101.0, 87.49293511071166], [102.0, 80.0125312…"
      ]
     },
     "execution_count": 1,
     "metadata": {},
     "output_type": "execute_result"
    }
   ],
   "source": [
    "from tldraw import TldrawWidgetCoordinates\n",
    "\n",
    "import numpy as np\n",
    "\n",
    "x = np.arange(100, 400, 1)\n",
    "y = 150+100*np.sin(x*0.1)\n",
    "\n",
    "points = np.column_stack((x, y)).tolist()\n",
    "\n",
    "TldrawWidgetCoordinates(points_new=points)"
   ]
  },
  {
   "cell_type": "code",
   "execution_count": null,
   "id": "2b3a79ea-4cc5-4097-9d7a-67c1cc08a895",
   "metadata": {},
   "outputs": [],
   "source": []
  }
 ],
 "metadata": {
  "kernelspec": {
   "display_name": "Python 3 (ipykernel)",
   "language": "python",
   "name": "python3"
  },
  "language_info": {
   "codemirror_mode": {
    "name": "ipython",
    "version": 3
   },
   "file_extension": ".py",
   "mimetype": "text/x-python",
   "name": "python",
   "nbconvert_exporter": "python",
   "pygments_lexer": "ipython3",
   "version": "3.12.3"
  },
  "widgets": {
   "application/vnd.jupyter.widget-state+json": {
    "state": {},
    "version_major": 2,
    "version_minor": 0
   }
  }
 },
 "nbformat": 4,
 "nbformat_minor": 5
}
