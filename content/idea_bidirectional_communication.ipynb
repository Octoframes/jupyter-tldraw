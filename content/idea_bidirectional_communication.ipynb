{
 "cells": [
  {
   "cell_type": "code",
   "execution_count": null,
   "metadata": {},
   "outputs": [],
   "source": [
    "%pip install tldraw"
   ]
  },
  {
   "cell_type": "code",
   "execution_count": null,
   "metadata": {},
   "outputs": [],
   "source": [
    "import ipyreact\n",
    "from traitlets import Unicode\n",
    "from IPython.display import display\n",
    "\n",
    "\n",
    "class TldrawWidget(ipyreact.ReactWidget):\n",
    "    my_text = Unicode(\"Hello World\").tag(sync=True)\n",
    "    my_text_out = Unicode(\"Hello World\").tag(sync=True)\n",
    "\n",
    "    _esm = \"\"\"\n",
    "    import { TDShapeType, Tldraw } from \"@tldraw/tldraw\";\n",
    "    import * as React from \"react\";\n",
    "\n",
    "    export default function App({ my_text, set_my_text_out }) {\n",
    "    \n",
    "        const [app, setApp] = React.useState()\n",
    "\n",
    "         const handleMount = React.useCallback((app: Tldraw) => {\n",
    "             setApp(app)\n",
    "         }, []);\n",
    "\n",
    "         React.useEffect(() => {\n",
    "             if (app) {\n",
    "             app.createShapes({\n",
    "                 id: \"text1\",\n",
    "                 type: TDShapeType.Text,\n",
    "                 point: [100, 100],\n",
    "                 text: my_text,\n",
    "             });\n",
    "             }\n",
    "         }, [my_text, app])\n",
    "\n",
    "        // Define the onChange function outside of the component\n",
    "        const handleTextChange = (e) => {\n",
    "            let mytext = e.getShape(\"text1\");\n",
    "            console.log(mytext);\n",
    "            console.log(typeof mytext);\n",
    "\n",
    "            // when not commented out, why is this next line throwing the Error:\n",
    "            // \"Cannot read properties of undefined (reading 'text')\"\n",
    "            // it's strange because the object mytext has a text property\n",
    "            // console.log(mytext.text); \n",
    "\n",
    "            console.log(JSON.stringify(mytext))\n",
    "\n",
    "            // let textValue = mytext.;\n",
    "            set_my_text_out(String(JSON.stringify(mytext)));\n",
    "        };\n",
    "\n",
    "        // Inside your component\n",
    "        return (\n",
    "            <div\n",
    "                style={{\n",
    "                    position: \"relative\",\n",
    "                    width: \"800px\",\n",
    "                    height: \"350px\",\n",
    "                }}\n",
    "            >\n",
    "                <Tldraw onMount={handleMount} onChange={handleTextChange} />\n",
    "            </div>\n",
    "        );\n",
    "\n",
    "    }\n",
    "    \"\"\"\n",
    "\n",
    "\n",
    "tldraw = TldrawWidget()\n",
    "tldraw.my_text = \"This is Tldrawsome!🎉\"\n",
    "display(tldraw)"
   ]
  },
  {
   "cell_type": "code",
   "execution_count": null,
   "metadata": {},
   "outputs": [],
   "source": [
    "# you can change the text in the canvas, and access it here in python\n",
    "import json\n",
    "text_out_object = json.loads(tldraw.my_text_out) \n",
    "text_out_object[\"text\"]"
   ]
  },
  {
   "cell_type": "code",
   "execution_count": null,
   "metadata": {},
   "outputs": [],
   "source": [
    " # change the text in the canvas\n",
    "tldraw.my_text = \"Heyho\" "
   ]
  },
  {
   "cell_type": "code",
   "execution_count": null,
   "metadata": {},
   "outputs": [],
   "source": [
    "tldraw.my_text"
   ]
  },
  {
   "cell_type": "code",
   "execution_count": null,
   "metadata": {},
   "outputs": [],
   "source": []
  }
 ],
 "metadata": {
  "kernelspec": {
   "display_name": "draw-nmmK06VI-py3.11",
   "language": "python",
   "name": "python3"
  },
  "language_info": {
   "codemirror_mode": {
    "name": "ipython",
    "version": 3
   },
   "file_extension": ".py",
   "mimetype": "text/x-python",
   "name": "python",
   "nbconvert_exporter": "python",
   "pygments_lexer": "ipython3",
   "version": "3.11.3"
  },
  "orig_nbformat": 4
 },
 "nbformat": 4,
 "nbformat_minor": 2
}
