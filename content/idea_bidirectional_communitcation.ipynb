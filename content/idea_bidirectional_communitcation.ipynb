{
 "cells": [
  {
   "cell_type": "code",
   "execution_count": null,
   "metadata": {},
   "outputs": [],
   "source": [
    "import ipyreact\n",
    "from traitlets import Unicode\n",
    "from IPython.display import display\n",
    "\n",
    "\n",
    "class TldrawWidget(ipyreact.ReactWidget):\n",
    "    my_text = Unicode(\"Hello World\").tag(sync=True)\n",
    "\n",
    "    _esm = \"\"\"\n",
    "    import { TDShapeType, Tldraw } from \"@tldraw/tldraw\";\n",
    "    import * as React from \"react\";\n",
    "\n",
    "    export default function App({ my_text }) {\n",
    "    const handleMount = React.useCallback((app: Tldraw) => {\n",
    "        app.createShapes({\n",
    "        id: \"text1\",\n",
    "        type: TDShapeType.Text,\n",
    "        point: [100, 100],\n",
    "        text: my_text,\n",
    "        });\n",
    "    });\n",
    "\n",
    "    return (\n",
    "        <div\n",
    "        style={{\n",
    "            position: \"relative\",\n",
    "            width: \"800px\",\n",
    "            height: \"350px\",\n",
    "        }}\n",
    "        >\n",
    "        <Tldraw onMount={handleMount} />\n",
    "        </div>\n",
    "    );\n",
    "    }\n",
    "    \"\"\"\n",
    "\n",
    "\n",
    "tldraw = TldrawWidget()\n",
    "tldraw.my_text = \"This is Tldrawesome!!🎉\"\n",
    "display(tldraw)\n"
   ]
  },
  {
   "cell_type": "code",
   "execution_count": null,
   "metadata": {},
   "outputs": [],
   "source": [
    "tldraw.my_text"
   ]
  },
  {
   "cell_type": "code",
   "execution_count": null,
   "metadata": {},
   "outputs": [],
   "source": [
    "tldraw.my_text = \"Hey there!\""
   ]
  }
 ],
 "metadata": {
  "kernelspec": {
   "display_name": "draw-nmmK06VI-py3.11",
   "language": "python",
   "name": "python3"
  },
  "language_info": {
   "codemirror_mode": {
    "name": "ipython",
    "version": 3
   },
   "file_extension": ".py",
   "mimetype": "text/x-python",
   "name": "python",
   "nbconvert_exporter": "python",
   "pygments_lexer": "ipython3",
   "version": "3.11.3"
  },
  "orig_nbformat": 4
 },
 "nbformat": 4,
 "nbformat_minor": 2
}
