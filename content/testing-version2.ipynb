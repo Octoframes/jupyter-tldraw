{
 "cells": [
  {
   "cell_type": "code",
   "execution_count": null,
   "metadata": {},
   "outputs": [],
   "source": [
    "%load_ext ipyreact"
   ]
  },
  {
   "cell_type": "code",
   "execution_count": null,
   "metadata": {},
   "outputs": [],
   "source": [
    "\n",
    "%%react\n",
    "\n",
    "import * as React from \"react\";\n",
    "import { Tldraw } from \"@tldraw/tldraw@canary\";\n",
    "\n",
    "export default function App() {\n",
    "  return (\n",
    "    <div\n",
    "      style={{\n",
    "        position: \"relative\",\n",
    "        width: \"300px\",\n",
    "        height: \"250px\",\n",
    "      }}\n",
    "    >\n",
    "      <Tldraw />\n",
    "    </div>\n",
    "  );\n",
    "}"
   ]
  }
 ],
 "metadata": {
  "kernelspec": {
   "display_name": "Python 3 (ipykernel)",
   "language": "python",
   "name": "python3"
  },
  "language_info": {
   "codemirror_mode": {
    "name": "ipython",
    "version": 3
   },
   "file_extension": ".py",
   "mimetype": "text/x-python",
   "name": "python",
   "nbconvert_exporter": "python",
   "pygments_lexer": "ipython3",
   "version": "3.11.4"
  }
 },
 "nbformat": 4,
 "nbformat_minor": 4
}
